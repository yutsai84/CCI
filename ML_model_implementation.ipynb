{
 "cells": [
  {
   "cell_type": "code",
   "execution_count": 5,
   "metadata": {
    "collapsed": true
   },
   "outputs": [],
   "source": [
    "# implement knn\n",
    "# ref: https://towardsdatascience.com/machine-learning-basics-with-the-k-nearest-neighbors-algorithm-6a6e71d01761\n",
    "from collections import Counter\n",
    "import math\n",
    "\n",
    "def knn(data, query, k, dis_fn, cho_fn):\n",
    "    nb_dis_ind = []\n",
    "    for i, datum in enumerate(data):\n",
    "        dis = dis_fn(datum[:-1], query)\n",
    "        nb_dis_ind.append((dis, i))\n",
    "        \n",
    "    sort_nb_dis_ind = sorted(nb_dis_ind)\n",
    "    k_nb_dis_ind = sort_nb_dis_ind[:k]\n",
    "    k_label = [data[i][1] for dis, i in k_nb_dis_ind]\n",
    "    \n",
    "    return k_nb_dis_ind, cho_fn(k_label)\n",
    "\n",
    "def mean(labels):\n",
    "    return sum(labels)/len(labels)\n",
    "\n",
    "def mode(labels):\n",
    "    return Counter(labels).most_common(1)[0][0]\n",
    "\n",
    "def e_dis(p1, p2):\n",
    "    ssd = 0\n",
    "    for i in range(len(p1)):\n",
    "        ssd += math.pow(p1[i]-p2[i], 2)\n",
    "    return math.sqrt(ssd)\n"
   ]
  },
  {
   "cell_type": "code",
   "execution_count": 6,
   "metadata": {
    "collapsed": false
   },
   "outputs": [],
   "source": [
    "clf_data = [\n",
    "           [22, 1],\n",
    "           [23, 1],\n",
    "           [21, 1],\n",
    "           [18, 1],\n",
    "           [19, 1],\n",
    "           [25, 0],\n",
    "           [27, 0],\n",
    "           [29, 0],\n",
    "           [31, 0],\n",
    "           [45, 0],\n",
    "          ]\n",
    "# Question:\n",
    "# Given the data we have, does a 33 year old like pineapples on their pizza?\n",
    "clf_query = [33]\n",
    "clf_k_nearest_neighbors, clf_prediction = knn(\n",
    "clf_data, clf_query, k=3, dis_fn=e_dis, cho_fn=mode)"
   ]
  },
  {
   "cell_type": "code",
   "execution_count": 7,
   "metadata": {
    "collapsed": false
   },
   "outputs": [
    {
     "data": {
      "text/plain": [
       "0"
      ]
     },
     "execution_count": 7,
     "metadata": {},
     "output_type": "execute_result"
    }
   ],
   "source": [
    "clf_prediction"
   ]
  },
  {
   "cell_type": "code",
   "execution_count": 10,
   "metadata": {
    "collapsed": false
   },
   "outputs": [
    {
     "data": {
      "text/plain": [
       "[(2.0, 8), (4.0, 7), (6.0, 6)]"
      ]
     },
     "execution_count": 10,
     "metadata": {},
     "output_type": "execute_result"
    }
   ],
   "source": [
    "clf_k_nearest_neighbors"
   ]
  },
  {
   "cell_type": "code",
   "execution_count": 8,
   "metadata": {
    "collapsed": true
   },
   "outputs": [],
   "source": [
    "reg_data = [\n",
    "            [65.75, 112.99],\n",
    "            [71.52, 136.49],\n",
    "            [69.40, 153.03],\n",
    "            [68.22, 142.34],\n",
    "            [67.79, 144.30],\n",
    "            [68.70, 123.30],\n",
    "            [69.80, 141.49],\n",
    "            [70.01, 136.46],\n",
    "            [67.90, 112.37],\n",
    "            [66.49, 127.45],\n",
    "           ]\n",
    "\n",
    "# Question:\n",
    "# Given the data we have, what's the best-guess at someone's weight if they are 60 inches tall?\n",
    "reg_query = [60]\n",
    "reg_k_nearest_neighbors, reg_prediction = knn(\n",
    "reg_data, reg_query, k=3, dis_fn=e_dis, cho_fn=mean)"
   ]
  },
  {
   "cell_type": "code",
   "execution_count": 9,
   "metadata": {
    "collapsed": false
   },
   "outputs": [
    {
     "data": {
      "text/plain": [
       "128.24666666666667"
      ]
     },
     "execution_count": 9,
     "metadata": {},
     "output_type": "execute_result"
    }
   ],
   "source": [
    "reg_prediction"
   ]
  },
  {
   "cell_type": "code",
   "execution_count": 11,
   "metadata": {
    "collapsed": false
   },
   "outputs": [
    {
     "data": {
      "text/plain": [
       "[(5.75, 0), (6.489999999999995, 9), (7.790000000000006, 4)]"
      ]
     },
     "execution_count": 11,
     "metadata": {},
     "output_type": "execute_result"
    }
   ],
   "source": [
    "reg_k_nearest_neighbors"
   ]
  },
  {
   "cell_type": "code",
   "execution_count": 1,
   "metadata": {
    "collapsed": true
   },
   "outputs": [],
   "source": [
    "# k-means clustering\n",
    "# ref: https://github.com/madhug-nadig/Machine-Learning-Algorithms-from-Scratch/blob/master/K%20Means%20Clustering.py\n",
    "# ref: http://madhugnadig.com/articles/machine-learning/2017/03/04/implementing-k-means-clustering-from-scratch-in-python.html\n",
    "# ref: https://www.geeksforgeeks.org/ml-k-means-algorithm/\n",
    "class K_Means:\n",
    "    def __init__(self, k = 3, tolerance = 0.0001, max_iter = 500):\n",
    "        self.k = k\n",
    "        self.tolerance = tolerance\n",
    "        self.max_iter = max_iter\n",
    "    \n",
    "    def fit(self, data):\n",
    "        self.centroids = {}\n",
    "        # initialized the centroids, the first 'k' element in the dataset will be our initial centroids\n",
    "        for i in range(self.k):\n",
    "            self.centroids[i] = data[i]\n",
    "        # begin iterations\n",
    "        for i in range(self.max_iter):\n",
    "            self.classes = {}\n",
    "            for i in range(self.k):\n",
    "                self.classes[i] = []\n",
    "            # find the distance between the point and cluster; choose the nearest centroid\n",
    "            for features in data:\n",
    "                distances = [np.linalg.norm(features - self.centroid[centroid] for centroid in self.centroids)]\n",
    "                classification = distance.index(min(distances))\n",
    "                self.classes[classification].append(features)\n",
    "            previous = dict(self.centroids)\n",
    "            # average the cluster datapoints to re-calculate the centroids\n",
    "            for classification in self.classes:\n",
    "                self.centroids[classification] = np.average(self.classes[classification], axis = 0)\n",
    "                \n",
    "            isOptimal = True\n",
    "            \n",
    "            for centroid in self.centroids:\n",
    "                original_centroid = previous[centroid]\n",
    "                curr = self.centroids[centroid]\n",
    "                \n",
    "                if np.sum((curr-original_centroid)/original_centroid *100) > self.tolerance:\n",
    "                    isOptimal = False\n",
    "                    \n",
    "                if isOptimal:\n",
    "                    break\n",
    "                \n",
    "\n"
   ]
  },
  {
   "cell_type": "code",
   "execution_count": null,
   "metadata": {
    "collapsed": true
   },
   "outputs": [],
   "source": []
  }
 ],
 "metadata": {
  "anaconda-cloud": {},
  "kernelspec": {
   "display_name": "Python [conda env:dlnd-tf-lab]",
   "language": "python",
   "name": "conda-env-dlnd-tf-lab-py"
  },
  "language_info": {
   "codemirror_mode": {
    "name": "ipython",
    "version": 3
   },
   "file_extension": ".py",
   "mimetype": "text/x-python",
   "name": "python",
   "nbconvert_exporter": "python",
   "pygments_lexer": "ipython3",
   "version": "3.5.4"
  }
 },
 "nbformat": 4,
 "nbformat_minor": 1
}
