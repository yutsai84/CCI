{
 "cells": [
  {
   "cell_type": "code",
   "execution_count": null,
   "metadata": {
    "collapsed": true
   },
   "outputs": [],
   "source": [
    "# 8.1\n",
    "# option 1: bottom-up approach using iteration\n",
    "def fib(n):\n",
    "    if n < 1:\n",
    "        print('n must be a postive interger')\n",
    "    elif n == 1:\n",
    "        return 1\n",
    "    elif n == 2:\n",
    "        return 1\n",
    "    elif n == 3: \n",
    "        return 2\n",
    "    else: \n",
    "        a = 1 #fib(1) \n",
    "        b = 1 #fib(2)\n",
    "        c = 2 #fib(3)\n",
    "        d = 4\n",
    "        for i in range(5, n+1):\n",
    "            a = b\n",
    "            b = c\n",
    "            c = d\n",
    "            d = a + b + c \n",
    "        return d\n",
    "\n",
    "# option 2: bottom-up approach using cache\n",
    "def fib_r(n):\n",
    "    cache = {}\n",
    "    return fib_r_helper(n, cache)\n",
    "\n",
    "def fib_r_helper(n, cache):\n",
    "    if n in cache:\n",
    "        return cache[n]\n",
    "    \n",
    "    if n < 1:\n",
    "        print ('n must be a positive number')\n",
    "    elif n == 1: #fib(1)\n",
    "        return 1\n",
    "    elif n == 2:\n",
    "        return 1\n",
    "    elif n == 3:\n",
    "        return 2\n",
    "    else:\n",
    "        result = fib_r(n-1) + fib_r(n-2) + fib_r(n-3)\n",
    "        cache[n] = result\n",
    "        return result"
   ]
  },
  {
   "cell_type": "code",
   "execution_count": 3,
   "metadata": {
    "collapsed": true
   },
   "outputs": [],
   "source": [
    "# 8.2\n",
    "# option 1: with recursion, time complexity O(2^(row+col))\n",
    "def getPath(maze):\n",
    "    if maze == None or len(maze) == 0:\n",
    "        return None\n",
    "    path = []\n",
    "    \n",
    "    if isPath(maze, len(maze)-1, len(maze[0])-1, path):\n",
    "        return path\n",
    "    \n",
    "    return None\n",
    "def isPath(maze, row, col, path):\n",
    "    if col < 0 or row < 0 or not maze[row][col]:\n",
    "        return False\n",
    "    isAtOrigin = (row == 0) and (col == 0)\n",
    "    \n",
    "    if isAtOrigin or isPath(maze, row, col-1, path) or isPath(maze, row-1, col, path):\n",
    "        point = (row, col)\n",
    "        print('point:{}'.format(point))\n",
    "        path.append(point)\n",
    "        return True\n",
    "    return False"
   ]
  },
  {
   "cell_type": "code",
   "execution_count": 4,
   "metadata": {
    "collapsed": false
   },
   "outputs": [
    {
     "name": "stdout",
     "output_type": "stream",
     "text": [
      "point:(0, 0)\n",
      "point:(1, 0)\n",
      "point:(1, 1)\n",
      "[(0, 0), (1, 0), (1, 1)]\n"
     ]
    }
   ],
   "source": [
    "print(getPath([[True, True],[True, True]]))"
   ]
  },
  {
   "cell_type": "code",
   "execution_count": null,
   "metadata": {
    "collapsed": true
   },
   "outputs": [],
   "source": [
    "# option 2: with memoization, time complexity O(row x col)\n",
    "def getPathMemo(maze):\n",
    "    is maze == None or len(maze) == 0:\n",
    "        return None\n",
    "    path = []\n",
    "    failedpoints = []\n",
    "    \n",
    "    if isPathMemo(maze, len(maze)-1, len(maze[0])-1, path, failedpoints):\n",
    "        return path\n",
    "    return None\n",
    "\n",
    "def isPathMemo(maze, row, col, path, failedpoints):\n",
    "    if row < 0 or col < 0 or maze[row][col]:\n",
    "        return False\n",
    "    point = (row, col)\n",
    "    \n",
    "    if point in failedpoints:\n",
    "        return False\n",
    "    isAtOrigin = (row == 0) and (col == 0)\n",
    "    if isAtOrign or isPathMemo(maze, row-1, col, path, failedpoints) or isPathMemo(maze, row, col-1, path, failedpoints):\n",
    "        path.append(point)\n",
    "        return True\n",
    "    failedpoints.append(point)\n",
    "    return False"
   ]
  },
  {
   "cell_type": "code",
   "execution_count": 5,
   "metadata": {
    "collapsed": true
   },
   "outputs": [],
   "source": [
    "# 8.4\n",
    "# option 1: iteration\n",
    "# observing that power set of 1, P(1) = P(0) + insertion of al (element of P(1)) to P(0)\n",
    "nums = ['a1', 'a2']\n",
    "res = [[]]\n",
    "def subset(nums):\n",
    "    for n in nums:\n",
    "        for i in range(len(res)): # insering each element to res\n",
    "            res.append(res[i] + [n])\n",
    "            print(res)\n",
    "            "
   ]
  },
  {
   "cell_type": "code",
   "execution_count": 17,
   "metadata": {
    "collapsed": false
   },
   "outputs": [
    {
     "data": {
      "text/plain": [
       "['a2']"
      ]
     },
     "execution_count": 17,
     "metadata": {},
     "output_type": "execute_result"
    }
   ],
   "source": [
    "[[],['a1']][0] + ['a2']"
   ]
  },
  {
   "cell_type": "code",
   "execution_count": 6,
   "metadata": {
    "collapsed": false
   },
   "outputs": [
    {
     "name": "stdout",
     "output_type": "stream",
     "text": [
      "[[], ['a1']]\n",
      "[[], ['a1'], ['a2']]\n",
      "[[], ['a1'], ['a2'], ['a1', 'a2']]\n"
     ]
    }
   ],
   "source": [
    "subset(nums)"
   ]
  },
  {
   "cell_type": "code",
   "execution_count": null,
   "metadata": {
    "collapsed": true
   },
   "outputs": [],
   "source": [
    "# option 2: recursive\n",
    "def subset(set):\n",
    "    if len(set) == 0:\n",
    "        return [set]\n",
    "    elif len(set) == 1:\n",
    "        return [[]] + [set]\n",
    "    else:\n",
    "        rest = subset(set[1:])\n",
    "        alist = []\n",
    "        for item in rest:\n",
    "            blist = [set[0]]\n",
    "            blist += item\n",
    "            alist.append(item)\n",
    "        return rest + alist"
   ]
  },
  {
   "cell_type": "code",
   "execution_count": null,
   "metadata": {
    "collapsed": true
   },
   "outputs": [],
   "source": [
    "#8.5"
   ]
  },
  {
   "cell_type": "code",
   "execution_count": 5,
   "metadata": {
    "collapsed": true
   },
   "outputs": [],
   "source": [
    "# 8.6 tower of hanoi\n",
    "# ref: https://www.geeksforgeeks.org/python-program-for-tower-of-hanoi/\n",
    "\n",
    "def towerofhanoi(n, ori, des, buf):\n",
    "    if n <=0:  \n",
    "        return\n",
    "    if n == 1: # base case\n",
    "        print 'move disc 1 from rod', ori, 'to rod', des\n",
    "        return\n",
    "    towerofhanoi(n-1, ori, buf, des)\n",
    "    print 'move disc', n, 'from rod', ori, 'to rod', des\n",
    "    towerofhanoi(n-1, buf, des, ori)\n"
   ]
  },
  {
   "cell_type": "code",
   "execution_count": 7,
   "metadata": {
    "collapsed": false
   },
   "outputs": [
    {
     "name": "stdout",
     "output_type": "stream",
     "text": [
      "move disc 1 from rod A to rod B\n",
      "move disc 2 from rod A to rod C\n",
      "move disc 1 from rod B to rod C\n",
      "move disc 3 from rod A to rod B\n",
      "move disc 1 from rod C to rod A\n",
      "move disc 2 from rod C to rod B\n",
      "move disc 1 from rod A to rod B\n",
      "move disc 4 from rod A to rod C\n",
      "move disc 1 from rod B to rod C\n",
      "move disc 2 from rod B to rod A\n",
      "move disc 1 from rod C to rod A\n",
      "move disc 3 from rod B to rod C\n",
      "move disc 1 from rod A to rod B\n",
      "move disc 2 from rod A to rod C\n",
      "move disc 1 from rod B to rod C\n"
     ]
    }
   ],
   "source": [
    "towerofhanoi(4, 'A', 'C', 'B')"
   ]
  },
  {
   "cell_type": "code",
   "execution_count": 22,
   "metadata": {
    "collapsed": false
   },
   "outputs": [],
   "source": [
    "# 8.7 permutations without dups\n",
    "def getPerms(string):\n",
    "    permutations = []\n",
    "    if string == None:\n",
    "        return None\n",
    "    if len(string) == 0:\n",
    "        #base case\n",
    "        permutations.append(\" \")\n",
    "        print('permutations:{}'.format(permutations))\n",
    "        return permutations\n",
    "    first = string[0] #get first letter in string\n",
    "    print ('first:{}'.format(first))\n",
    "    remainder = string[1:]\n",
    "    print ('remainder:{}'.format(remainder))\n",
    "    words = getPerms(remainder)\n",
    "    print('words:{}'.format(words))\n",
    "    for word in words:\n",
    "        index = 0\n",
    "        print('-'*5)\n",
    "        print('word:{}').format(word)\n",
    "        print('first:{}'.format(first))\n",
    "        print('index:{}').format(index)\n",
    "        print('-'*5)\n",
    "        for letter in word:\n",
    "            s = insertCharAt(word, first, index)\n",
    "            print('s:{}'.format(s))\n",
    "            permutations.append(s)\n",
    "            index += 1\n",
    "    return permutations\n",
    "\n",
    "def insertCharAt(word, char, i):\n",
    "    start = word[:i]\n",
    "    print('start:{}'.format(start))\n",
    "    end = word[i:]\n",
    "    print('end:{}'.format(end))\n",
    "    return start + char + end\n"
   ]
  },
  {
   "cell_type": "code",
   "execution_count": 23,
   "metadata": {
    "collapsed": false
   },
   "outputs": [
    {
     "name": "stdout",
     "output_type": "stream",
     "text": [
      "first:s\n",
      "remainder:tr\n",
      "first:t\n",
      "remainder:r\n",
      "first:r\n",
      "remainder:\n",
      "permutations:[' ']\n",
      "words:[' ']\n",
      "-----\n",
      "word: \n",
      "first:r\n",
      "index:0\n",
      "-----\n",
      "start:\n",
      "end: \n",
      "s:r \n",
      "words:['r ']\n",
      "-----\n",
      "word:r \n",
      "first:t\n",
      "index:0\n",
      "-----\n",
      "start:\n",
      "end:r \n",
      "s:tr \n",
      "start:r\n",
      "end: \n",
      "s:rt \n",
      "words:['tr ', 'rt ']\n",
      "-----\n",
      "word:tr \n",
      "first:s\n",
      "index:0\n",
      "-----\n",
      "start:\n",
      "end:tr \n",
      "s:str \n",
      "start:t\n",
      "end:r \n",
      "s:tsr \n",
      "start:tr\n",
      "end: \n",
      "s:trs \n",
      "-----\n",
      "word:rt \n",
      "first:s\n",
      "index:0\n",
      "-----\n",
      "start:\n",
      "end:rt \n",
      "s:srt \n",
      "start:r\n",
      "end:t \n",
      "s:rst \n",
      "start:rt\n",
      "end: \n",
      "s:rts \n"
     ]
    },
    {
     "data": {
      "text/plain": [
       "['str ', 'tsr ', 'trs ', 'srt ', 'rst ', 'rts ']"
      ]
     },
     "execution_count": 23,
     "metadata": {},
     "output_type": "execute_result"
    }
   ],
   "source": [
    "getPerms('str')"
   ]
  },
  {
   "cell_type": "code",
   "execution_count": 36,
   "metadata": {
    "collapsed": true
   },
   "outputs": [],
   "source": [
    "# ref: https://stackoverflow.com/questions/8306654/finding-all-possible-permutations-of-a-given-string-in-python\n",
    "# permutations = char + permutations(string - char) for char in string\n",
    "# ref, runtime: https://code.luasoftware.com/tutorials/coding-interview/generate-all-permutations-of-string-python/\n",
    "def permutations(string):\n",
    "    \"\"\"Create all permutations of a string with non-repeating characters\n",
    "    \"\"\"\n",
    "    permutation_list = []\n",
    "    if len(string) == 1:\n",
    "        return [string]\n",
    "    else:\n",
    "        for char in string:\n",
    "            print('char:{}'.format(char))\n",
    "            [permutation_list.append(char + a) for a in permutations(string.replace(char, \"\"))]\n",
    "            print('permutation_list:{}'.format(permutation_list))\n",
    "    return permutation_list"
   ]
  },
  {
   "cell_type": "code",
   "execution_count": 37,
   "metadata": {
    "collapsed": false
   },
   "outputs": [
    {
     "name": "stdout",
     "output_type": "stream",
     "text": [
      "char:s\n",
      "char:t\n",
      "permutation_list:['tr']\n",
      "char:r\n",
      "permutation_list:['tr', 'rt']\n",
      "permutation_list:['str', 'srt']\n",
      "char:t\n",
      "char:s\n",
      "permutation_list:['sr']\n",
      "char:r\n",
      "permutation_list:['sr', 'rs']\n",
      "permutation_list:['str', 'srt', 'tsr', 'trs']\n",
      "char:r\n",
      "char:s\n",
      "permutation_list:['st']\n",
      "char:t\n",
      "permutation_list:['st', 'ts']\n",
      "permutation_list:['str', 'srt', 'tsr', 'trs', 'rst', 'rts']\n"
     ]
    },
    {
     "data": {
      "text/plain": [
       "['str', 'srt', 'tsr', 'trs', 'rst', 'rts']"
      ]
     },
     "execution_count": 37,
     "metadata": {},
     "output_type": "execute_result"
    }
   ],
   "source": [
    "permutations('str')"
   ]
  },
  {
   "cell_type": "code",
   "execution_count": 44,
   "metadata": {
    "collapsed": false
   },
   "outputs": [
    {
     "data": {
      "text/plain": [
       "['str', 'srt', 'tsr', 'trs', 'rst', 'rts']"
      ]
     },
     "execution_count": 44,
     "metadata": {},
     "output_type": "execute_result"
    }
   ],
   "source": [
    "permutations('str')"
   ]
  },
  {
   "cell_type": "code",
   "execution_count": 12,
   "metadata": {
    "collapsed": true
   },
   "outputs": [],
   "source": [
    "# 8.8 permutations with dups\n",
    "# ref: https://stackoverflow.com/questions/8306654/finding-all-possible-permutations-of-a-given-string-in-python\n",
    "def permutations_dup(string):\n",
    "    if len(string) == 1:\n",
    "        return string\n",
    "\n",
    "    recursive_perms = []\n",
    "    for c in string:\n",
    "        for perm in permutations_dup(string.replace(c,'',1)):\n",
    "            recursive_perms.append(c+perm)\n",
    "\n",
    "    return set(recursive_perms)"
   ]
  },
  {
   "cell_type": "code",
   "execution_count": 13,
   "metadata": {
    "collapsed": false
   },
   "outputs": [
    {
     "data": {
      "text/plain": [
       "{'rrst',\n",
       " 'rrts',\n",
       " 'rsrt',\n",
       " 'rstr',\n",
       " 'rtrs',\n",
       " 'rtsr',\n",
       " 'srrt',\n",
       " 'srtr',\n",
       " 'strr',\n",
       " 'trrs',\n",
       " 'trsr',\n",
       " 'tsrr'}"
      ]
     },
     "execution_count": 13,
     "metadata": {},
     "output_type": "execute_result"
    }
   ],
   "source": [
    "permutations_dup('strr')"
   ]
  },
  {
   "cell_type": "code",
   "execution_count": 5,
   "metadata": {
    "collapsed": true
   },
   "outputs": [],
   "source": [
    "def permutations_dup(string):\n",
    "    permutation_list = []\n",
    "    if len(string) == 1:\n",
    "        return [string]\n",
    "    else:\n",
    "        for char in string:\n",
    "            [permutation_list.append(char + a) for a in permutations_dup(string.replace(char, '', 1))]\n",
    "    return set(permutation_list)"
   ]
  },
  {
   "cell_type": "code",
   "execution_count": 6,
   "metadata": {
    "collapsed": false
   },
   "outputs": [
    {
     "data": {
      "text/plain": [
       "{'rrst',\n",
       " 'rrts',\n",
       " 'rsrt',\n",
       " 'rstr',\n",
       " 'rtrs',\n",
       " 'rtsr',\n",
       " 'srrt',\n",
       " 'srtr',\n",
       " 'strr',\n",
       " 'trrs',\n",
       " 'trsr',\n",
       " 'tsrr'}"
      ]
     },
     "execution_count": 6,
     "metadata": {},
     "output_type": "execute_result"
    }
   ],
   "source": [
    "permutations_dup('strr')"
   ]
  },
  {
   "cell_type": "code",
   "execution_count": 9,
   "metadata": {
    "collapsed": true
   },
   "outputs": [],
   "source": [
    "# 8.9 parenthesis\n",
    "\n",
    "def parens(n):\n",
    "    if n == 0:\n",
    "        return ['']\n",
    "    else:\n",
    "        combinations = []\n",
    "        helper('', n, n, combinations)\n",
    "        return combinations\n",
    "\n",
    "def helper(string, left, right, combinations):\n",
    "    if left <= 0 and right <= 0:\n",
    "        combinations.append(string)\n",
    "    else:\n",
    "        if left > 0:\n",
    "            helper(string + '(', left-1, right, combinations)\n",
    "        if right > left and right > 0:\n",
    "            helper(string + ')', left, right - 1, combinations)\n",
    "    "
   ]
  },
  {
   "cell_type": "code",
   "execution_count": 10,
   "metadata": {
    "collapsed": false
   },
   "outputs": [
    {
     "data": {
      "text/plain": [
       "['((()))', '(()())', '(())()', '()(())', '()()()']"
      ]
     },
     "execution_count": 10,
     "metadata": {},
     "output_type": "execute_result"
    }
   ],
   "source": [
    "parens(3)"
   ]
  },
  {
   "cell_type": "code",
   "execution_count": 11,
   "metadata": {
    "collapsed": true
   },
   "outputs": [],
   "source": [
    "# 8.10 paintfill\n",
    "def paint_fill(image, target_color, location, init_color = None):\n",
    "    dims = image.shape\n",
    "    if location[0] >= dims[0] or location[1] >= dims[1] or location[0] < 0 or location[1] < 0:\n",
    "        return\n",
    "    if init_color == None:\n",
    "        init_color = image[location[0], location[1]]\n",
    "    if image[location[0], location[1]] == target_color or image[location[0], location[1]] != init_color:\n",
    "        return\n",
    "    image[location[0], location[1]] = target_color\n",
    "    paint_fill(image, target_color, (location[0]-1, location[1]), init_color)\n",
    "    paint_fill(image, target_color, (location[0]+1, location[1]), init_color)\n",
    "    paint_fill(image, target_color, (location[0], location[1]-1), init_color)\n",
    "    paint_fill(image, target_color, (location[0], location[1]+1), init_color)\n",
    "    return"
   ]
  },
  {
   "cell_type": "code",
   "execution_count": 1,
   "metadata": {
    "collapsed": true
   },
   "outputs": [],
   "source": [
    "#8.11 coin change\n",
    "# ref: https://www.geeksforgeeks.org/coin-change-dp-7/\n",
    "# approach1:\n",
    "def count(S, m, n): \n",
    "    \n",
    "    # We need n+1 rows as the table is constructed  \n",
    "    # in bottom up manner using the base case 0 value \n",
    "    # case (n = 0) \n",
    "    table = [[0 for x in range(m)] for x in range(n+1)] \n",
    "  \n",
    "    # Fill the entries for 0 value case (n = 0) \n",
    "    for i in range(m): \n",
    "        table[0][i] = 1\n",
    "  \n",
    "    # Fill rest of the table entries in bottom up manner \n",
    "    for i in range(1, n+1): \n",
    "        for j in range(m): \n",
    "  \n",
    "            # Count of solutions including S[j] \n",
    "            x = table[i - S[j]][j] if i-S[j] >= 0 else 0\n",
    "  \n",
    "            # Count of solutions excluding S[j] \n",
    "            y = table[i][j-1] if j >= 1 else 0\n",
    "  \n",
    "            # total count \n",
    "            table[i][j] = x + y \n",
    "  \n",
    "    return table[n][m-1] "
   ]
  },
  {
   "cell_type": "code",
   "execution_count": 2,
   "metadata": {
    "collapsed": false
   },
   "outputs": [
    {
     "name": "stdout",
     "output_type": "stream",
     "text": [
      "4\n"
     ]
    }
   ],
   "source": [
    "# Driver program to test above function \n",
    "arr = [1, 2, 3] \n",
    "m = len(arr) \n",
    "n = 4\n",
    "print(count(arr, m, n)) "
   ]
  },
  {
   "cell_type": "code",
   "execution_count": 6,
   "metadata": {
    "collapsed": false
   },
   "outputs": [],
   "source": [
    "def count(S, m, n):\n",
    "    table = [[0 for col in range(m)] for row in range(n+1)]\n",
    "    \n",
    "    for col in range(m): \n",
    "        table[0][col] = 1\n",
    "    \n",
    "    for row in range(1, n+1):\n",
    "        for col in range(m):\n",
    "            # count including S[col]\n",
    "            x = table[row-S[col]][col] if row-S[col] >=0 else 0\n",
    "            # count excluding S[col]\n",
    "            y = table[row][col-1] if col-1>=0 else 0\n",
    "            \n",
    "            table[row][col] = x+y\n",
    "    return table[n][m-1]\n",
    "     "
   ]
  },
  {
   "cell_type": "code",
   "execution_count": 7,
   "metadata": {
    "collapsed": false
   },
   "outputs": [
    {
     "name": "stdout",
     "output_type": "stream",
     "text": [
      "4\n"
     ]
    }
   ],
   "source": [
    "arr = [1, 2, 3] \n",
    "m = len(arr) \n",
    "n = 4\n",
    "print(count(arr, m, n)) "
   ]
  },
  {
   "cell_type": "code",
   "execution_count": 10,
   "metadata": {
    "collapsed": true
   },
   "outputs": [],
   "source": [
    "# approach2:\n",
    "def count(S, m, n):\n",
    "    if n == 0:\n",
    "        return 1\n",
    "    if n < 0:\n",
    "        return 0\n",
    "    if m <=0 and n >=1:\n",
    "        return 0\n",
    "    return count(S, m-1, n) + count(S, m, n-S[m-1])"
   ]
  },
  {
   "cell_type": "code",
   "execution_count": 11,
   "metadata": {
    "collapsed": false
   },
   "outputs": [
    {
     "name": "stdout",
     "output_type": "stream",
     "text": [
      "4\n"
     ]
    }
   ],
   "source": [
    "arr = [1, 2, 3] \n",
    "m = len(arr) \n",
    "n = 4\n",
    "print(count(arr, m, n)) "
   ]
  },
  {
   "cell_type": "code",
   "execution_count": null,
   "metadata": {
    "collapsed": true
   },
   "outputs": [],
   "source": [
    "# 8.12 eight queens\n",
    "# ref: https://www.youtube.com/watch?v=xouin83ebxE\n",
    "# ref: https://leetcode.com/problems/n-queens/discuss/19810/Fast-short-and-easy-to-understand-python-solution-11-lines-76ms\n",
    "def nQ(n):\n",
    "    def dfs(qs, xy_dif, xy_sum):\n",
    "        p = len(qs) # index of row\n",
    "        if p == n:\n",
    "            res.append(qs)\n",
    "            return None\n",
    "        for q in range(n): # iterate through col\n",
    "            if q not in qs and p-q not in xy_dif and p+q not in xy_sum:\n",
    "                dfs(qs+[q], xy_dif+[p-q], xy_sum+[p+q])\n",
    "    res = []\n",
    "    dfs([],[],[])\n",
    "    return [['.'*i + 'Q' + '.'*(n-i-1) for i in sol] for sol in res]\n",
    "    "
   ]
  }
 ],
 "metadata": {
  "anaconda-cloud": {},
  "kernelspec": {
   "display_name": "Python [default]",
   "language": "python",
   "name": "python2"
  },
  "language_info": {
   "codemirror_mode": {
    "name": "ipython",
    "version": 2
   },
   "file_extension": ".py",
   "mimetype": "text/x-python",
   "name": "python",
   "nbconvert_exporter": "python",
   "pygments_lexer": "ipython2",
   "version": "2.7.12"
  }
 },
 "nbformat": 4,
 "nbformat_minor": 1
}
