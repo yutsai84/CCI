{
 "cells": [
  {
   "cell_type": "code",
   "execution_count": 5,
   "metadata": {
    "collapsed": false
   },
   "outputs": [],
   "source": [
    "# ref: https://pythoninwonderland.wordpress.com/2017/03/18/how-to-implement-breadth-first-search-in-python/\n",
    "graph = {'A': ['B', 'C', 'E'],\n",
    "         'B': ['A','D', 'E'],\n",
    "         'C': ['A', 'F', 'G'],\n",
    "         'D': ['B'],\n",
    "         'E': ['A', 'B','D'],\n",
    "         'F': ['C'],\n",
    "         'G': ['C']\n",
    "        }"
   ]
  },
  {
   "cell_type": "code",
   "execution_count": 6,
   "metadata": {
    "collapsed": false
   },
   "outputs": [
    {
     "name": "stdout",
     "output_type": "stream",
     "text": [
      "node:A\n",
      "explored:['A']\n",
      "queue:['B', 'C', 'E']\n",
      "node:B\n",
      "explored:['A', 'B']\n",
      "queue:['C', 'E', 'A', 'D', 'E']\n",
      "node:C\n",
      "explored:['A', 'B', 'C']\n",
      "queue:['E', 'A', 'D', 'E', 'A', 'F', 'G']\n",
      "node:E\n",
      "explored:['A', 'B', 'C', 'E']\n",
      "queue:['A', 'D', 'E', 'A', 'F', 'G', 'A', 'B', 'D']\n",
      "node:A\n",
      "node:D\n",
      "explored:['A', 'B', 'C', 'E', 'D']\n",
      "queue:['E', 'A', 'F', 'G', 'A', 'B', 'D', 'B']\n",
      "node:E\n",
      "node:A\n",
      "node:F\n",
      "explored:['A', 'B', 'C', 'E', 'D', 'F']\n",
      "queue:['G', 'A', 'B', 'D', 'B', 'C']\n",
      "node:G\n",
      "explored:['A', 'B', 'C', 'E', 'D', 'F', 'G']\n",
      "queue:['A', 'B', 'D', 'B', 'C', 'C']\n",
      "node:A\n",
      "node:B\n",
      "node:D\n",
      "node:B\n",
      "node:C\n",
      "node:C\n"
     ]
    },
    {
     "data": {
      "text/plain": [
       "['A', 'B', 'C', 'E', 'D', 'F', 'G']"
      ]
     },
     "execution_count": 6,
     "metadata": {},
     "output_type": "execute_result"
    }
   ],
   "source": [
    "# visits all the nodes of a graph (connected component) using BFS\n",
    "def bfs_connected_component(graph, start):\n",
    "    # keep track of all visited nodes\n",
    "    explored = []\n",
    "    # keep track of nodes to be checked\n",
    "    queue = [start]\n",
    " \n",
    "    # keep looping until there are nodes still to be checked\n",
    "    while queue:\n",
    "        # pop shallowest node (first node) from queue\n",
    "        node = queue.pop(0)\n",
    "        print('node:{}'.format(node))\n",
    "        if node not in explored:\n",
    "            # add node to list of checked nodes\n",
    "            explored.append(node)\n",
    "            print('explored:{}'.format(explored))\n",
    "            neighbours = graph[node]\n",
    " \n",
    "            # add neighbours of node to queue\n",
    "            for neighbour in neighbours:\n",
    "                queue.append(neighbour)\n",
    "            print('queue:{}'.format(queue))\n",
    "    return explored\n",
    " \n",
    "bfs_connected_component(graph,'A') # returns ['A', 'B', 'C', 'E', 'D', 'F', 'G']\n",
    "\n"
   ]
  },
  {
   "cell_type": "code",
   "execution_count": 8,
   "metadata": {
    "collapsed": true
   },
   "outputs": [],
   "source": [
    "def bfs(graph, start):\n",
    "    # keep track of explored nodes\n",
    "    explored = []\n",
    "    # keep track of nodes to be checked\n",
    "    queue = [start]\n",
    "    # keep looping till no more nodes in the queue to be checked\n",
    "    while queue:\n",
    "        node = queue.pop(0)\n",
    "        if node not in explored: # if the current node has not been explored\n",
    "            explored.append(node) #  add it to explored\n",
    "            nbs = graph[node] # take the neighbor node of the current node\n",
    "            for nb in nbs:\n",
    "                queue.append(nb) # append all nb nodes to the queue\n",
    "    return explored\n"
   ]
  },
  {
   "cell_type": "code",
   "execution_count": 9,
   "metadata": {
    "collapsed": false
   },
   "outputs": [
    {
     "data": {
      "text/plain": [
       "['A', 'B', 'C', 'E', 'D', 'F', 'G']"
      ]
     },
     "execution_count": 9,
     "metadata": {},
     "output_type": "execute_result"
    }
   ],
   "source": [
    "bfs(graph,'A')"
   ]
  },
  {
   "cell_type": "code",
   "execution_count": 10,
   "metadata": {
    "collapsed": false
   },
   "outputs": [
    {
     "name": "stdout",
     "output_type": "stream",
     "text": [
      "queue:[['G']]\n",
      "path:['G']\n",
      "node:G\n",
      "new_path:['G', 'C']\n",
      "explored:['G']\n",
      "queue:[['G', 'C']]\n",
      "path:['G', 'C']\n",
      "node:C\n",
      "new_path:['G', 'C', 'A']\n",
      "new_path:['G', 'C', 'F']\n",
      "new_path:['G', 'C', 'G']\n",
      "explored:['G', 'C']\n",
      "queue:[['G', 'C', 'A'], ['G', 'C', 'F'], ['G', 'C', 'G']]\n",
      "path:['G', 'C', 'A']\n",
      "node:A\n",
      "new_path:['G', 'C', 'A', 'B']\n",
      "new_path:['G', 'C', 'A', 'C']\n",
      "new_path:['G', 'C', 'A', 'E']\n",
      "explored:['G', 'C', 'A']\n",
      "queue:[['G', 'C', 'F'], ['G', 'C', 'G'], ['G', 'C', 'A', 'B'], ['G', 'C', 'A', 'C'], ['G', 'C', 'A', 'E']]\n",
      "path:['G', 'C', 'F']\n",
      "node:F\n",
      "new_path:['G', 'C', 'F', 'C']\n",
      "explored:['G', 'C', 'A', 'F']\n",
      "queue:[['G', 'C', 'G'], ['G', 'C', 'A', 'B'], ['G', 'C', 'A', 'C'], ['G', 'C', 'A', 'E'], ['G', 'C', 'F', 'C']]\n",
      "path:['G', 'C', 'G']\n",
      "node:G\n",
      "queue:[['G', 'C', 'A', 'B'], ['G', 'C', 'A', 'C'], ['G', 'C', 'A', 'E'], ['G', 'C', 'F', 'C']]\n",
      "path:['G', 'C', 'A', 'B']\n",
      "node:B\n",
      "new_path:['G', 'C', 'A', 'B', 'A']\n",
      "new_path:['G', 'C', 'A', 'B', 'D']\n"
     ]
    },
    {
     "data": {
      "text/plain": [
       "['G', 'C', 'A', 'B', 'D']"
      ]
     },
     "execution_count": 10,
     "metadata": {},
     "output_type": "execute_result"
    }
   ],
   "source": [
    "# finds shortest path between 2 nodes of a graph using BFS\n",
    "def bfs_shortest_path(graph, start, goal):\n",
    "    # keep track of explored nodes\n",
    "    explored = []\n",
    "    # keep track of all the paths to be checked\n",
    "    queue = [[start]]\n",
    "    \n",
    "    # return path if start is goal\n",
    "    if start == goal:\n",
    "        return \"That was easy! Start = goal\"\n",
    " \n",
    "    # keeps looping until all possible paths have been checked\n",
    "    while queue:\n",
    "        # pop the first path from the queue\n",
    "        print('queue:{}'.format(queue))\n",
    "        path = queue.pop(0)\n",
    "        print('path:{}'.format(path))\n",
    "        # get the last node from the path\n",
    "        node = path[-1]\n",
    "        print('node:{}'.format(node))\n",
    "        if node not in explored:\n",
    "            neighbours = graph[node]\n",
    "            # go through all neighbour nodes, construct a new path and\n",
    "            # push it into the queue\n",
    "            for neighbour in neighbours:\n",
    "                new_path = list(path)\n",
    "                new_path.append(neighbour)\n",
    "                print('new_path:{}'.format(new_path))\n",
    "                queue.append(new_path)\n",
    "                # return path if neighbour is goal\n",
    "                if neighbour == goal:\n",
    "                    return new_path\n",
    " \n",
    "            # mark node as explored\n",
    "            explored.append(node)\n",
    "            print('explored:{}'.format(explored))\n",
    " \n",
    "    # in case there's no path between the 2 nodes\n",
    "    return \"So sorry, but a connecting path doesn't exist :(\"\n",
    " \n",
    "bfs_shortest_path(graph, 'G', 'D')  # returns ['G', 'C', 'A', 'B', 'D']"
   ]
  },
  {
   "cell_type": "code",
   "execution_count": 11,
   "metadata": {
    "collapsed": false
   },
   "outputs": [
    {
     "name": "stdout",
     "output_type": "stream",
     "text": [
      "vertex:1\n",
      "path:[1]\n",
      "stack:[2, 3]\n",
      "vertex:3\n",
      "path:[1, 3]\n",
      "stack:[2, 5]\n",
      "vertex:5\n",
      "path:[1, 3, 5]\n",
      "stack:[2, 6]\n",
      "vertex:6\n",
      "path:[1, 3, 5, 6]\n",
      "stack:[2, 7]\n",
      "vertex:7\n",
      "path:[1, 3, 5, 6, 7]\n",
      "stack:[2]\n",
      "vertex:2\n",
      "path:[1, 3, 5, 6, 7, 2]\n",
      "stack:[4, 5]\n",
      "vertex:5\n",
      "vertex:4\n",
      "path:[1, 3, 5, 6, 7, 2, 4]\n",
      "stack:[6]\n",
      "vertex:6\n",
      "[1, 3, 5, 6, 7, 2, 4]\n"
     ]
    }
   ],
   "source": [
    "#ref: https://www.koderdojo.com/blog/depth-first-search-in-python-recursive-and-non-recursive-programming\n",
    "def dfs_iterative(graph, start):\n",
    "    stack, path = [start], [] # use stack to pop the last node (FILO), path to record the queue\n",
    "\n",
    "    while stack:\n",
    "        vertex = stack.pop() # pop the last node\n",
    "        print('vertex:{}'.format(vertex))\n",
    "        if vertex in path:\n",
    "            continue\n",
    "        path.append(vertex)\n",
    "        print('path:{}'.format(path))\n",
    "        for neighbor in graph[vertex]:\n",
    "            stack.append(neighbor)\n",
    "        print('stack:{}'.format(stack))\n",
    "\n",
    "    return path\n",
    "\n",
    "\n",
    "adjacency_matrix = {1: [2, 3], 2: [4, 5],\n",
    "                    3: [5], 4: [6], 5: [6],\n",
    "                    6: [7], 7: []}\n",
    "\n",
    "print(dfs_iterative(adjacency_matrix, 1))\n",
    "# [1, 3, 5, 6, 7, 2, 4]"
   ]
  },
  {
   "cell_type": "code",
   "execution_count": 12,
   "metadata": {
    "collapsed": false
   },
   "outputs": [
    {
     "name": "stdout",
     "output_type": "stream",
     "text": [
      "path:[1]\n",
      "neightbor:2\n",
      "path:[1, 2]\n",
      "neightbor:4\n",
      "path:[1, 2, 4]\n",
      "neightbor:6\n",
      "path:[1, 2, 4, 6]\n",
      "neightbor:7\n",
      "path:[1, 2, 4, 6, 7]\n",
      "neightbor:5\n",
      "path:[1, 2, 4, 6, 7, 5]\n",
      "neightbor:6\n",
      "neightbor:3\n",
      "path:[1, 2, 4, 6, 7, 5, 3]\n",
      "neightbor:5\n",
      "[1, 2, 4, 6, 7, 5, 3]\n"
     ]
    }
   ],
   "source": [
    "def dfs_recursive(graph, vertex, path=[]):\n",
    "    path += [vertex]\n",
    "    print('path:{}'.format(path))\n",
    "\n",
    "    for neighbor in graph[vertex]:\n",
    "        print('neightbor:{}'.format(neighbor))\n",
    "        if neighbor not in path:\n",
    "            path = dfs_recursive(graph, neighbor, path)\n",
    "           \n",
    "\n",
    "    return path\n",
    "\n",
    "\n",
    "adjacency_matrix = {1: [2, 3], 2: [4, 5],\n",
    "                    3: [5], 4: [6], 5: [6],\n",
    "                    6: [7], 7: []}\n",
    "\n",
    "print(dfs_recursive(adjacency_matrix, 1))\n",
    "# [1, 2, 4, 6, 7, 5, 3]"
   ]
  },
  {
   "cell_type": "code",
   "execution_count": 13,
   "metadata": {
    "collapsed": true
   },
   "outputs": [],
   "source": [
    "#4.1\n",
    "def bsf(graph, start, end):\n",
    "    if start == end:\n",
    "        return True\n",
    "    # keep track of all visited nodes\n",
    "    explored = []\n",
    "    # keep track of nodes to be checked\n",
    "    queue = [start]\n",
    "    # keep looping till no nodes to be checked\n",
    "    while queue:\n",
    "        node = queue.pop(0)\n",
    "        if node not in explored:\n",
    "            explored.append(node)\n",
    "            nbs = graph[node]\n",
    "            for nb in nbs:\n",
    "                if nb == end:\n",
    "                    return True\n",
    "                queue.append(nb)\n",
    "    return False\n",
    "            "
   ]
  },
  {
   "cell_type": "code",
   "execution_count": 19,
   "metadata": {
    "collapsed": false
   },
   "outputs": [
    {
     "data": {
      "text/plain": [
       "False"
      ]
     },
     "execution_count": 19,
     "metadata": {},
     "output_type": "execute_result"
    }
   ],
   "source": [
    "bsf(graph, 'F', 'T')"
   ]
  },
  {
   "cell_type": "code",
   "execution_count": 59,
   "metadata": {
    "collapsed": false
   },
   "outputs": [],
   "source": [
    "# 4.2 \n",
    "# step1: insert the middle element of the array to the root node of BST\n",
    "# step2: insert the left subtree the left subarray of elements\n",
    "# step3: insert the right subtree the right subarray of elements\n",
    "\n",
    "# define the BST node class\n",
    "class BSTNode():\n",
    "    def __init__(self, value = None, left = None, right = None):\n",
    "        self.value, self.left, self.right = value, left, right\n",
    "    def __str__(self):\n",
    "        return '(L:' + str(self.left) + ' V:' + str(self.value) + ' R:' + str(self.right) + ')'\n",
    "\n",
    "# implementation of step1 to 3 recursively\n",
    "def arraytobst(sortedarray):\n",
    "    if len(sortedarray) == 0:\n",
    "        return None\n",
    "    middle = len(sortedarray) / 2\n",
    "    left  = arraytobst(sortedarray[:middle])\n",
    "    right = arraytobst(sortedarray[(middle+1):])\n",
    "    return BSTNode(sortedarray[middle], left, right)"
   ]
  },
  {
   "cell_type": "code",
   "execution_count": 61,
   "metadata": {
    "collapsed": false
   },
   "outputs": [
    {
     "name": "stdout",
     "output_type": "stream",
     "text": [
      "(L:(L:(L:None V:0 R:None) V:1 R:(L:None V:2 R:None)) V:3 R:(L:(L:None V:4 R:None) V:5 R:None))\n"
     ]
    }
   ],
   "source": [
    "sortedarray = [0,1,2,3,4,5]\n",
    "print(arraytobst(sortedarray))"
   ]
  },
  {
   "cell_type": "code",
   "execution_count": 49,
   "metadata": {
    "collapsed": false
   },
   "outputs": [],
   "source": [
    "def minimal_height_bst(sorted_array):\n",
    "    if len(sorted_array) == 0:\n",
    "        return None\n",
    "    middle = len(sorted_array) / 2\n",
    "    left  = minimal_height_bst(sorted_array[:middle])\n",
    "    right = minimal_height_bst(sorted_array[(middle+1):])\n",
    "    return BSTNode(sorted_array[middle], left, right)\n",
    "\n",
    "class BSTNode():\n",
    "    def __init__(self, data=None, left=None, right=None):\n",
    "        self.data, self.left, self.right = data, left, right\n",
    "\n",
    "    def __str__(self):\n",
    "        string = \"(\" + str(self.data)\n",
    "        if self.left:  string += str(self.left)\n",
    "        else:          string += \".\"\n",
    "        if self.right: string += str(self.right)\n",
    "        else:          string += \".\"\n",
    "        return string + \")\""
   ]
  },
  {
   "cell_type": "code",
   "execution_count": 50,
   "metadata": {
    "collapsed": false
   },
   "outputs": [
    {
     "name": "stdout",
     "output_type": "stream",
     "text": [
      "(3(1(0..)(2..))(5(4..).))\n"
     ]
    }
   ],
   "source": [
    "print(minimal_height_bst(sortedarray))"
   ]
  },
  {
   "cell_type": "code",
   "execution_count": 137,
   "metadata": {
    "collapsed": false
   },
   "outputs": [],
   "source": [
    "# 4.3\n",
    "# ref: http://www.yujinc.com/4-3-list-of-depths-cci/\n",
    "# with DFS, use pre-order traversal algorithm, where we pass level + 1 to the next recursive call\n",
    "# keep track of levels with a list of linked lists\n",
    "# keep track of the depth for each call\n",
    "# if the depth has not been created yet, make the node the head of the linked list for that depth\n",
    "# else if the depth exists, go the last node in the list append the new node\n",
    "\n",
    "# define Tree Node:\n",
    "class TreeNode():\n",
    "    def __init__(self, value, left = None, right = None):\n",
    "        self.value = value\n",
    "        self.left = left\n",
    "        self.right = right\n",
    "        return \n",
    "    \n",
    "# define Node\n",
    "class Node():\n",
    "    def __init__(self, value, next = None):\n",
    "        self.value = value\n",
    "        self.next = next\n",
    "\n",
    "# define bst using recursive calls\n",
    "def bst(array): # create a bst\n",
    "    # below is the base case\n",
    "    if not array:    \n",
    "        return None\n",
    "    elif len(array) == 1:\n",
    "        return TreeNode(array[0])\n",
    "    \n",
    "    n = len(array)\n",
    "    head_node = TreeNode(array[n/2])\n",
    "    \n",
    "    \n",
    "    left_child = bst(array[:n/2])\n",
    "    right_child = bst(array[n/2 + 1 :])\n",
    "    head_node.left = left_child\n",
    "    head_node.right = right_child\n",
    "    return head_node"
   ]
  },
  {
   "cell_type": "code",
   "execution_count": 138,
   "metadata": {
    "collapsed": true
   },
   "outputs": [],
   "source": [
    "BST = bst(range(2,8))"
   ]
  },
  {
   "cell_type": "code",
   "execution_count": 169,
   "metadata": {
    "collapsed": false
   },
   "outputs": [
    {
     "data": {
      "text/plain": [
       "3"
      ]
     },
     "execution_count": 169,
     "metadata": {},
     "output_type": "execute_result"
    }
   ],
   "source": [
    "BST.left.value"
   ]
  },
  {
   "cell_type": "code",
   "execution_count": 193,
   "metadata": {
    "collapsed": false
   },
   "outputs": [],
   "source": [
    "# create a linked list per level of bst \n",
    "\n",
    "def list_depth(node, depth, levels = []):\n",
    "    # below is the base case\n",
    "    if not node:\n",
    "        return \n",
    "    if depth == 0:\n",
    "        levels.append(Node(node.value))\n",
    "        print('levels:{}'.format(node.value))\n",
    "    else:       \n",
    "        if depth >= len(levels): # if the depth has not been created yet, \n",
    "                                 # make the node the head of the linked list for that depth\n",
    "            levels.append(Node(node.value))\n",
    "            print('Node:{}'.format(node.value))\n",
    "            print('length levels:{}'.format(len(levels)))\n",
    "        else: # else if the depth exists, go the last node in the list append the new node\n",
    "            print('depth:{}'.format(depth))\n",
    "            level = levels[depth]\n",
    "            print('level:{}'.format(level.value))\n",
    "            while level:\n",
    "                previous = level\n",
    "                print('previous:{}'.format(previous.value))\n",
    "                level = level.next\n",
    "                if level:\n",
    "                    print('level:{}'.format(level.value))\n",
    "                else:\n",
    "                    print('level: None')\n",
    "            previous.next = Node(node.value)\n",
    "            print ('previous next :{}'.format(previous.next.value))\n",
    "    \n",
    "    print('left' + '-'*5)\n",
    "    list_depth(node.left, depth + 1, levels)\n",
    "    print('right' + '-'*5)\n",
    "    list_depth(node.right, depth + 1, levels)\n",
    "    return levels"
   ]
  },
  {
   "cell_type": "code",
   "execution_count": 194,
   "metadata": {
    "collapsed": false
   },
   "outputs": [
    {
     "name": "stdout",
     "output_type": "stream",
     "text": [
      "levels:5\n",
      "left-----\n",
      "Node:3\n",
      "length levels:2\n",
      "left-----\n",
      "Node:2\n",
      "length levels:3\n",
      "left-----\n",
      "right-----\n",
      "right-----\n",
      "depth:2\n",
      "level:2\n",
      "previous:2\n",
      "level: None\n",
      "previous next :4\n",
      "left-----\n",
      "right-----\n",
      "right-----\n",
      "depth:1\n",
      "level:3\n",
      "previous:3\n",
      "level: None\n",
      "previous next :7\n",
      "left-----\n",
      "depth:2\n",
      "level:2\n",
      "previous:2\n",
      "level:4\n",
      "previous:4\n",
      "level: None\n",
      "previous next :6\n",
      "left-----\n",
      "right-----\n",
      "right-----\n"
     ]
    },
    {
     "data": {
      "text/plain": [
       "3"
      ]
     },
     "execution_count": 194,
     "metadata": {},
     "output_type": "execute_result"
    }
   ],
   "source": [
    "lists = (list_depth(BST, 0))\n",
    "len(lists)"
   ]
  },
  {
   "cell_type": "code",
   "execution_count": 176,
   "metadata": {
    "collapsed": false
   },
   "outputs": [
    {
     "data": {
      "text/plain": [
       "7"
      ]
     },
     "execution_count": 176,
     "metadata": {},
     "output_type": "execute_result"
    }
   ],
   "source": [
    "BST.right.value"
   ]
  },
  {
   "cell_type": "code",
   "execution_count": 2,
   "metadata": {
    "collapsed": true
   },
   "outputs": [],
   "source": [
    "# detecting cycles in a directed graph using dfs\n",
    "# https://algocoding.wordpress.com/2015/04/02/detecting-cycles-in-a-directed-graph-with-dfs-python/\n",
    "def cycle_exists(G):\n",
    "    color = {u: 'white' for u in G}\n",
    "    found_cycle = [False]\n",
    "    for u in G:\n",
    "        if color[u] == 'white':\n",
    "            dfs_visit(G, u, color, found_cycle)\n",
    "        if found_cycle[0]:\n",
    "            break\n",
    "    return found_cycle[0]\n",
    "\n",
    "def dfs_visit(G, u, color, found_cycle):\n",
    "    if found_cycle[0]:\n",
    "        return\n",
    "    color[u] = 'grey'\n",
    "    for v in G[u]:\n",
    "        if color[v] == 'grey':\n",
    "            found_cycle[0] = True\n",
    "            return\n",
    "        if color[v] == 'white':\n",
    "            dfs_visit(G, v, color, found_cycle)\n",
    "    color[u] = 'black'\n",
    "            \n",
    "            \n",
    "    "
   ]
  },
  {
   "cell_type": "code",
   "execution_count": 3,
   "metadata": {
    "collapsed": false
   },
   "outputs": [
    {
     "data": {
      "text/plain": [
       "True"
      ]
     },
     "execution_count": 3,
     "metadata": {},
     "output_type": "execute_result"
    }
   ],
   "source": [
    "graph_example_1 = { 0 : [1],\n",
    "                    1 : [2],\n",
    "                    2 : [3],\n",
    "                    3 : [4],\n",
    "                    4 : [1] }\n",
    "cycle_exists(graph_example_1)"
   ]
  },
  {
   "cell_type": "code",
   "execution_count": 4,
   "metadata": {
    "collapsed": false
   },
   "outputs": [
    {
     "data": {
      "text/plain": [
       "False"
      ]
     },
     "execution_count": 4,
     "metadata": {},
     "output_type": "execute_result"
    }
   ],
   "source": [
    "graph_example_2 = { 0 : [1, 2],\n",
    "                    1 : [2],\n",
    "                    2 : [] }\n",
    "cycle_exists(graph_example_2)"
   ]
  },
  {
   "cell_type": "code",
   "execution_count": null,
   "metadata": {
    "collapsed": true
   },
   "outputs": [],
   "source": [
    "#4.4 check whether a binary tree is balanced\n",
    "def is_balanced_helper(node):\n",
    "    if node is None:\n",
    "        return 0\n",
    "    left_height = is_balanced_helper(node.left)\n",
    "    \n",
    "    if left_height == -1:\n",
    "        return -1\n",
    "    \n",
    "    right_height = is_balanced_helper(node.right)\n",
    "    \n",
    "    if right_height == -1:\n",
    "        return -1\n",
    "    \n",
    "    if abs(left_height - right_height) > 1:\n",
    "        return -1\n",
    "    \n",
    "    return max(left_height, right_height) + 1\n",
    "\n",
    "def is_balanced(root):\n",
    "    return is_balanced_helper(root) > -1"
   ]
  },
  {
   "cell_type": "code",
   "execution_count": null,
   "metadata": {
    "collapsed": true
   },
   "outputs": [],
   "source": [
    "# 4.5 check whether a tree is a BST\n",
    "def is_bst_helper(node, min_, max_):\n",
    "    if node is None:\n",
    "        return True\n",
    "    if node.val < min_ or node.val > max_:\n",
    "        return False\n",
    "    return is_bst_helper(node.left, min_, node.val-1) and is_bst_helpr(node.right, node.val+1, max_)\n",
    "\n",
    "def is_bst(node):\n",
    "    return is_bst_helper(node, -1*float('inf'), float('inf'))"
   ]
  },
  {
   "cell_type": "code",
   "execution_count": null,
   "metadata": {
    "collapsed": true
   },
   "outputs": [],
   "source": [
    "# 4.6 BST in-order successor\n",
    "# ref: https://github.com/alexhagiopol/cracking-the-coding-interview/blob/master/python_solutions/chapter_04_trees_and_graphs/problem_04_06_successor.py\n",
    "# ref: https://www.youtube.com/watch?v=5cPbNCrdotA&vl=en\n",
    "def get_leftmost_descendant(node):\n",
    "    while node is not None:\n",
    "        if node.left is None:\n",
    "            return node\n",
    "        node = node.left\n",
    "    return node\n",
    "\n",
    "def get_first_right_ancestor(node):\n",
    "    while node is not None:\n",
    "        if node.parent is None:\n",
    "            return None\n",
    "        if node.parent.left == node:\n",
    "            return node.parent\n",
    "        node = node.parent\n",
    "    return node\n",
    "\n",
    "\n",
    "def successor(node):\n",
    "    return_node = get_leftmost_descendant(node.right)\n",
    "    if return_node is None:\n",
    "        return get_first_right_ancestor(node)\n",
    "    return return_node"
   ]
  },
  {
   "cell_type": "code",
   "execution_count": 28,
   "metadata": {
    "collapsed": false
   },
   "outputs": [],
   "source": [
    "#4.7 build order using topological sort\n",
    "# ref: https://stackoverflow.com/questions/47192626/deceptively-simple-implementation-of-topological-sorting-in-python\n",
    "# ref: https://www.youtube.com/watch?v=ddTC4Zovtbc\n",
    "\n",
    "def topologicalsort(graph, node):\n",
    "    stack = []\n",
    "    seen = set()\n",
    "    \n",
    "    def topologicalsort_helper(node):\n",
    "        for nb in graph[node]:\n",
    "            if nb not in seen:\n",
    "                seen.add(nb)\n",
    "                topologicalsort_helper(nb)\n",
    "        stack.insert(0, node)\n",
    "    \n",
    "    topologicalsort_helper(node)\n",
    "    \n",
    "    return stack "
   ]
  },
  {
   "cell_type": "code",
   "execution_count": 31,
   "metadata": {
    "collapsed": false
   },
   "outputs": [
    {
     "data": {
      "text/plain": [
       "['a', 'c', 'b', 'd', 'e']"
      ]
     },
     "execution_count": 31,
     "metadata": {},
     "output_type": "execute_result"
    }
   ],
   "source": [
    "graph = {\n",
    "        'a': ['b', 'c'],\n",
    "        'b': ['d'],\n",
    "        'c': ['d'],\n",
    "        'd': ['e'],\n",
    "        'e': []\n",
    "        }\n",
    "    \n",
    "topologicalsort(graph, 'a')"
   ]
  },
  {
   "cell_type": "code",
   "execution_count": null,
   "metadata": {
    "collapsed": true
   },
   "outputs": [],
   "source": [
    "# 4.8 lowest common ancestor (lca)\n",
    "# ref: https://www.geeksforgeeks.org/lowest-common-ancestor-binary-tree-set-1/\n",
    "# ref: https://leetcode.com/problems/subtree-of-another-tree/submissions/\n",
    "def lca(root, p, q):\n",
    "    if root is None:\n",
    "        return None\n",
    "    if root == p or root == q:\n",
    "        return root\n",
    "    left = lca(root.left, p, q)\n",
    "    right = lca(root.right, p, q)\n",
    "    if left and right:\n",
    "        return root\n",
    "    if left is None and right is None:\n",
    "        return None\n",
    "    return left if left else right\n",
    "    "
   ]
  },
  {
   "cell_type": "code",
   "execution_count": null,
   "metadata": {
    "collapsed": true
   },
   "outputs": [],
   "source": [
    "# 4.9 number of unique BST\n",
    "# ref: https://www.youtube.com/watch?v=YDf982Lb84o\n",
    "def numBST(n):\n",
    "    T = [0]*(n+1)\n",
    "    T[0] = 1\n",
    "    for i in range(1, n+1):\n",
    "        for j in range(i):\n",
    "            T[i] += T[j]*T[i-j-1] #catalan number\n",
    "    return T[n]"
   ]
  },
  {
   "cell_type": "code",
   "execution_count": null,
   "metadata": {
    "collapsed": true
   },
   "outputs": [],
   "source": [
    "# 4.10 is binary subtree\n",
    "# ref: https://github.com/alexhagiopol/cracking-the-coding-interview/blob/master/python_solutions/chapter_04_trees_and_graphs/problem_04_10_check_subtree.py\n",
    "def is_subt(t1, t2):\n",
    "    if t2 is None:\n",
    "        return True\n",
    "    if t1 is None:\n",
    "        return False\n",
    "    if t1.val == t2.val:\n",
    "        if is_subt_h(t1, t2):\n",
    "            return True\n",
    "    return is_sbu_t(t1.left, t2) or is_sub_t(t1.right, t2)\n",
    "\n",
    "def is_subt_h(t1, t2):\n",
    "    if t1 is None and t2 is None:\n",
    "        return True\n",
    "    if t1 is None or t2 is None:\n",
    "        return False\n",
    "    if t1.val == t2.val:\n",
    "        return is_subt_h(t1.left, t2.left) and is_subt_h(t1.right, t2.right)\n",
    "    return False\n",
    "    \n",
    "# time O(N+KM), K: # of times the head of t2 appears in t2, N: # of node in t1, M: # of nodes in t2\n",
    "# space O(log(N) + log(M)), assuming trees are balanced"
   ]
  },
  {
   "cell_type": "code",
   "execution_count": null,
   "metadata": {
    "collapsed": true
   },
   "outputs": [],
   "source": [
    "# 4.11 random node\n",
    "# ref: https://github.com/alexhagiopol/cracking-the-coding-interview/blob/master/python_solutions/chapter_04_trees_and_graphs/problem_04_11_random_BST.py\n",
    "# ref: https://www.byte-by-byte.com/randombinarytree/\n",
    "class RBN:\n",
    "    def __init__(self, val = None, left = None, right = None, c = 0):\n",
    "        self.val = val\n",
    "        self.left = left\n",
    "        self.right = right\n",
    "        self.c = c\n",
    "        \n",
    "    def left_c(self):\n",
    "        if self.left is None:\n",
    "            return 0\n",
    "        else:\n",
    "            return 1 + self.left_c\n",
    "        \n",
    "    def right_c(self):\n",
    "        if self.right is None:\n",
    "            return 0\n",
    "        else:\n",
    "            return 1 + self.right_c\n",
    "        \n",
    "    def insert(self, val):\n",
    "        if val is None: # disallow adding no val\n",
    "            return\n",
    "        if self.val is None: # create children only if the current node has no val\n",
    "            self.val = val\n",
    "            return\n",
    "        self.c +=1\n",
    "        if val > self.val:\n",
    "            if self.right is not None:\n",
    "                self.right.insert(val)\n",
    "            else:\n",
    "                self.right = RBN(val)\n",
    "        else:\n",
    "            if self.left is not None:\n",
    "                self.left.insert(val)\n",
    "            else:\n",
    "                self.left = RBN(val)\n",
    "    def get_rand(self, rand_int = None):\n",
    "        if rand_int is None:\n",
    "            rand_int = random.randint(1, 1+self.c)\n",
    "        if rand_int <=1:\n",
    "            return self.val\n",
    "        elif 1 < rand_int <= 1+self.left_c():\n",
    "            return self.left.get_rand(rand_int - 1)\n",
    "        else:\n",
    "            return self.right.get_rand(rand_int - self.left_c() - 1)\n",
    "        \n",
    "        "
   ]
  },
  {
   "cell_type": "code",
   "execution_count": null,
   "metadata": {
    "collapsed": true
   },
   "outputs": [],
   "source": [
    "# 4.12 path sums\n",
    "# ref: https://www.youtube.com/watch?v=NTyOEYYyv-o\n",
    "# ref: https://medium.com/@lenchen/leetcode-437-path-sum-iii-c5c1f6bf7d67\n",
    "# option1: double recursion, time O(NlogN), space (logN)\n",
    "def pathSum(root, sums):\n",
    "    if root is None:\n",
    "        return 0\n",
    "    def dfs(root, sums):\n",
    "        c = 0\n",
    "        if root is None:\n",
    "            return 0\n",
    "        if root.val == sums:\n",
    "            c +=1\n",
    "        c +=dfs(root.left, sums-root.val)\n",
    "        c +=dfs(root.right, sums-root.val)\n",
    "        return c\n",
    "    return dfs(root, sum) + self.pathSum(root.left, sums) + self.pathSum(root.right, sums)\n",
    "\n",
    "# option 2: # time/space: O(N)\n",
    "# Definition for a binary tree node.\n",
    "# class TreeNode:\n",
    "#     def __init__(self, x):\n",
    "#         self.val = x\n",
    "#         self.left = None\n",
    "#         self.right = None\n",
    "\n",
    "class Solution:\n",
    "    def __init__(self):\n",
    "        self.amap = {0:1}\n",
    "    def dfs(self, root, a, sum):\n",
    "        if root is None:\n",
    "            return 0\n",
    "        cur_a = a + root.val\n",
    "        self.amap.setdefault(cur_a, 0)\n",
    "        self.amap[cur_a]+=1\n",
    "        left_sum = self.dfs(root.left, cur_a, sum)\n",
    "        right_sum = self.dfs(root.right, cur_a, sum)\n",
    "        self.amap[cur_a]-=1\n",
    "        return self.amap.get(cur_a-sum, 0) + left_sum + right_sum\n",
    "    def pathSum(self, root: TreeNode, sum: int) -> int:\n",
    "        return self.dfs(root, 0, sum)"
   ]
  }
 ],
 "metadata": {
  "anaconda-cloud": {},
  "kernelspec": {
   "display_name": "Python [default]",
   "language": "python",
   "name": "python2"
  },
  "language_info": {
   "codemirror_mode": {
    "name": "ipython",
    "version": 2
   },
   "file_extension": ".py",
   "mimetype": "text/x-python",
   "name": "python",
   "nbconvert_exporter": "python",
   "pygments_lexer": "ipython2",
   "version": "2.7.12"
  }
 },
 "nbformat": 4,
 "nbformat_minor": 1
}
