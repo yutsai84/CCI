{
 "cells": [
  {
   "cell_type": "code",
   "execution_count": 94,
   "metadata": {
    "collapsed": true
   },
   "outputs": [],
   "source": [
    "# implementation of a linked list\n",
    "# linked list is just a set of values and pointers (node), which can be implemented in a class \n",
    "class Node():\n",
    "    # constructor\n",
    "    def __init__(self, init_val = None, next_node = None):\n",
    "        self.val = init_val # must be a init_val NOT val\n",
    "        self.next_node = next_node # the pointer initially points to nothing\n",
    "    \n",
    "    def __str__(self):\n",
    "        return self.val\n",
    "    \n",
    "    # get value method\n",
    "    def get_val(self):\n",
    "        return self.val\n",
    "    \n",
    "    # get next node method\n",
    "    def get_next(self):\n",
    "        return self.next_node\n",
    "    \n",
    "    # set next node\n",
    "    def set_next(self, new_node):\n",
    "        self.next_node = new_node\n",
    "        "
   ]
  },
  {
   "cell_type": "code",
   "execution_count": 83,
   "metadata": {
    "collapsed": false
   },
   "outputs": [],
   "source": [
    "# The beginning of the architectural piece of linked list\n",
    "# the head node\n",
    "class LinkedList():\n",
    "    def __init__(self, head = None):\n",
    "        self.head = head\n",
    "    \n",
    "    # insert a node\n",
    "    def insert(self, val):\n",
    "        new_node = Node(val) # adding the first value to the first node\n",
    "        new_node.set_next(self.head) # link head to the first node\n",
    "        self.head = new_node # make the 'new_node' as the head, the initial head, which is None, becomes the previous head\n",
    "    \n",
    "    # check the size of linked list, time complexity O(N)\n",
    "    def size(self): \n",
    "        current = self.head # current node is the head code\n",
    "        count = 0\n",
    "        while current: # loop throught it till the current is None, which is the end of the linked list\n",
    "            count +=1\n",
    "            current = current.get_next() # make the current node as the linked node \n",
    "        return count\n",
    "    \n",
    "    # search the node, where the value is\n",
    "    def search(self, val):\n",
    "        current = self.head\n",
    "        found = False\n",
    "        while current and found is False:\n",
    "            if current.get_val() == val:\n",
    "                found = True\n",
    "            else:\n",
    "                current = current.get_next()\n",
    "        if current is None: # reach to the end, still not found\n",
    "            raise ValueError('Value not in list')\n",
    "        return current # return the node, where the value is\n",
    "    \n",
    "    # delete the node, where the value is\n",
    "    def delete(self, val):\n",
    "        current = self.head()\n",
    "        prev = None\n",
    "        found =False\n",
    "        while current and found is False:\n",
    "            if current.get_data() == val:\n",
    "                found = True\n",
    "            else:\n",
    "                previous = current\n",
    "                current = current.get_next()\n",
    "        if current == None: # reach to the end, still not found\n",
    "             raise ValueError('Value not in list')\n",
    "        if previous == None: # if the node, where the value is, is the head node (meaning no previous node)\n",
    "            self.head = current.get_next() # simply change the head node to the next node. The previous head node will be dis-link\n",
    "        else:\n",
    "            previous.set_next(current.get_next()) # removing the current node, where the value is, means linking the previous node to the next node directly.\n",
    "                \n",
    "                \n",
    "        "
   ]
  },
  {
   "cell_type": "code",
   "execution_count": 96,
   "metadata": {
    "collapsed": false
   },
   "outputs": [],
   "source": [
    "node1 = Node(1)\n",
    "node2 = Node(2)\n",
    "node3 = Node(3)\n",
    "node4 = Node(4)\n",
    "node1.next_node = node2\n",
    "node2.next_node = node3\n",
    "node3.set_next(node4)\n"
   ]
  },
  {
   "cell_type": "code",
   "execution_count": 37,
   "metadata": {
    "collapsed": false
   },
   "outputs": [
    {
     "data": {
      "text/plain": [
       "2"
      ]
     },
     "execution_count": 37,
     "metadata": {},
     "output_type": "execute_result"
    }
   ],
   "source": [
    "node1.get_next().get_val()"
   ]
  },
  {
   "cell_type": "code",
   "execution_count": 100,
   "metadata": {
    "collapsed": false
   },
   "outputs": [
    {
     "name": "stdout",
     "output_type": "stream",
     "text": [
      "1\n"
     ]
    }
   ],
   "source": [
    "print(str(node1.get_val()))"
   ]
  },
  {
   "cell_type": "code",
   "execution_count": 31,
   "metadata": {
    "collapsed": false
   },
   "outputs": [
    {
     "data": {
      "text/plain": [
       "3"
      ]
     },
     "execution_count": 31,
     "metadata": {},
     "output_type": "execute_result"
    }
   ],
   "source": [
    "node2.get_next().get_val()"
   ]
  },
  {
   "cell_type": "code",
   "execution_count": 52,
   "metadata": {
    "collapsed": false
   },
   "outputs": [
    {
     "data": {
      "text/plain": [
       "4"
      ]
     },
     "execution_count": 52,
     "metadata": {},
     "output_type": "execute_result"
    }
   ],
   "source": [
    "node3.get_next().get_val()"
   ]
  },
  {
   "cell_type": "code",
   "execution_count": 91,
   "metadata": {
    "collapsed": true
   },
   "outputs": [],
   "source": [
    "mylist = LinkedList()"
   ]
  },
  {
   "cell_type": "code",
   "execution_count": 75,
   "metadata": {
    "collapsed": true
   },
   "outputs": [],
   "source": [
    "# the latter it adds, the closer it is to the head\n",
    "mylist.insert(1)\n",
    "mylist.insert(2)\n",
    "mylist.insert(3)"
   ]
  },
  {
   "cell_type": "code",
   "execution_count": 78,
   "metadata": {
    "collapsed": false
   },
   "outputs": [
    {
     "data": {
      "text/plain": [
       "1"
      ]
     },
     "execution_count": 78,
     "metadata": {},
     "output_type": "execute_result"
    }
   ],
   "source": [
    "mylist.search(2).get_next().get_val()"
   ]
  },
  {
   "cell_type": "code",
   "execution_count": 81,
   "metadata": {
    "collapsed": false
   },
   "outputs": [
    {
     "data": {
      "text/plain": [
       "3"
      ]
     },
     "execution_count": 81,
     "metadata": {},
     "output_type": "execute_result"
    }
   ],
   "source": [
    "mylist.head.get_val()"
   ]
  },
  {
   "cell_type": "code",
   "execution_count": 218,
   "metadata": {
    "collapsed": false
   },
   "outputs": [
    {
     "name": "stdout",
     "output_type": "stream",
     "text": [
      "1\n",
      "{1: True}\n",
      "{1: True, 3: True}\n",
      "{1: True, 3: True, 5: True}\n",
      "-----\n",
      "5\n"
     ]
    }
   ],
   "source": [
    "#2.1\n",
    "def remove_duplicates(head):\n",
    "    node = head\n",
    "    print head.data\n",
    "    if node:\n",
    "        values = {node.data: True} # use a hash table to keep track on the unique node\n",
    "        print values\n",
    "        while node.next:\n",
    "            if node.next.data in values: # if the value of a next node exists in the hash table (i.e. dictionary)\n",
    "                node.next = node.next.next  # move to a next node of the next node\n",
    "            else:\n",
    "                values[node.next.data] = True # else, register the value of next node in the hash table\n",
    "                node = node.next\n",
    "                print values\n",
    "    return head\n",
    "\n",
    "class Node():\n",
    "    def __init__(self, data, next):\n",
    "        self.data = data\n",
    "        self.next = next\n",
    "\n",
    "\n",
    "head = Node(1,Node(3,Node(3,Node(1,Node(5,None)))))\n",
    "t = remove_duplicates(head)\n",
    "# assert head.data, 1\n",
    "# assert head.next.data, 3\n",
    "# assert head.next.next.data, 5\n",
    "# assert head.next.next.next, None\n",
    "print('-'*5)\n",
    "print t.next.next.data\n",
    "# print {t.next.next.data: True}\n",
    "# print head.next.next.next.next.data"
   ]
  },
  {
   "cell_type": "code",
   "execution_count": null,
   "metadata": {
    "collapsed": true
   },
   "outputs": [],
   "source": [
    "### Better class definition of LinkedList is below"
   ]
  },
  {
   "cell_type": "code",
   "execution_count": 166,
   "metadata": {
    "collapsed": true
   },
   "outputs": [],
   "source": [
    "from random import randint\n",
    "\n",
    "\n",
    "class LinkedListNode:\n",
    "\n",
    "    def __init__(self, value, nextNode=None, prevNode=None):\n",
    "        self.value = value\n",
    "        self.next = nextNode\n",
    "        self.prev = prevNode\n",
    "\n",
    "    def __str__(self):\n",
    "        return str(self.value)\n",
    "\n",
    "\n",
    "class LinkedList:\n",
    "\n",
    "    def __init__(self, values=None):\n",
    "        self.head = None\n",
    "        self.tail = None\n",
    "        if values is not None:\n",
    "            self.add_multiple(values)\n",
    "\n",
    "    def __iter__(self):\n",
    "        current = self.head\n",
    "        while current:\n",
    "            yield current\n",
    "            current = current.next\n",
    "\n",
    "    def __str__(self):\n",
    "        values = [str(x) for x in self]\n",
    "        return ' -> '.join(values)\n",
    "\n",
    "    def __len__(self):\n",
    "        result = 0\n",
    "        node = self.head\n",
    "        while node:\n",
    "            result += 1\n",
    "            node = node.next\n",
    "        return result\n",
    "\n",
    "    def add(self, value):\n",
    "        if self.head is None:\n",
    "            self.tail = self.head = LinkedListNode(value)\n",
    "        else:\n",
    "            self.tail.next = LinkedListNode(value)\n",
    "            self.tail = self.tail.next\n",
    "        return self.tail\n",
    "\n",
    "    def add_to_beginning(self, value):\n",
    "        if self.head is None:\n",
    "            self.tail = self.head = LinkedListNode(value)\n",
    "        else:\n",
    "            self.head = LinkedListNode(value, self.head)\n",
    "        return self.head\n",
    "\n",
    "    def add_multiple(self, values):\n",
    "        for v in values:\n",
    "            self.add(v)\n",
    "\n",
    "    def generate(self, n, min_value, max_value):\n",
    "        self.head = self.tail = None\n",
    "        for i in range(n):\n",
    "            self.add(randint(min_value, max_value))\n",
    "        return self\n",
    "\n",
    "\n",
    "class DoublyLinkedList(LinkedList):\n",
    "\n",
    "    def add(self, value):\n",
    "        if self.head is None:\n",
    "            self.tail = self.head = LinkedListNode(value, None, self.tail)\n",
    "        else:\n",
    "            self.tail.next = LinkedListNode(value)\n",
    "            self.tail = self.tail.next\n",
    "        return self"
   ]
  },
  {
   "cell_type": "code",
   "execution_count": 215,
   "metadata": {
    "collapsed": true
   },
   "outputs": [],
   "source": [
    "#2.1\n",
    "def remove_dups(ll):\n",
    "    if ll.head is None:\n",
    "        return\n",
    "    current = ll.head # read the head node (all the nodes linked to the head node till the none)\n",
    "    seen = set([current.value])\n",
    "    while current.next:\n",
    "        if current.next.value in seen:\n",
    "            current.next = current.next.next\n",
    "        else:\n",
    "            seen.add(current.next.value)\n",
    "            current = current.next\n",
    "\n",
    "    return current\n"
   ]
  },
  {
   "cell_type": "code",
   "execution_count": 216,
   "metadata": {
    "collapsed": false
   },
   "outputs": [
    {
     "name": "stdout",
     "output_type": "stream",
     "text": [
      "0 -> 1 -> 1 -> 2\n",
      "0 -> 1 -> 2\n"
     ]
    }
   ],
   "source": [
    "ll = LinkedList()\n",
    "ll.generate(4, 0, 2)\n",
    "print(ll)\n",
    "remove_dups(ll)\n",
    "print(ll)"
   ]
  },
  {
   "cell_type": "code",
   "execution_count": 212,
   "metadata": {
    "collapsed": false
   },
   "outputs": [
    {
     "name": "stdout",
     "output_type": "stream",
     "text": [
      "0\n"
     ]
    }
   ],
   "source": [
    "t = ll.head\n",
    "print t.next.next.next.value"
   ]
  },
  {
   "cell_type": "code",
   "execution_count": 198,
   "metadata": {
    "collapsed": false
   },
   "outputs": [
    {
     "data": {
      "text/plain": [
       "2"
      ]
     },
     "execution_count": 198,
     "metadata": {},
     "output_type": "execute_result"
    }
   ],
   "source": [
    "ll.head.value"
   ]
  },
  {
   "cell_type": "code",
   "execution_count": 235,
   "metadata": {
    "collapsed": true
   },
   "outputs": [],
   "source": [
    "#2.1 \n",
    "def remove_duplicates_follow(ll):\n",
    "#use two pointers 1).current: iterate through the whole linkedlist 2). runner: iterate through the subsequent nodes, checking for duplicates\n",
    "    if ll.head is None:\n",
    "        return ll\n",
    "    current = ll.head\n",
    "    while current:\n",
    "        runner = current\n",
    "        while runner.next:\n",
    "            if runner.next.value == current.value:\n",
    "                runner.next = runner.next.next\n",
    "            else:\n",
    "                runner = runner.next\n",
    "        current = current.next\n",
    "    return current"
   ]
  },
  {
   "cell_type": "code",
   "execution_count": 236,
   "metadata": {
    "collapsed": false
   },
   "outputs": [
    {
     "name": "stdout",
     "output_type": "stream",
     "text": [
      "0 -> 1 -> 1 -> 2\n"
     ]
    }
   ],
   "source": [
    "ll = LinkedList()\n",
    "ll.generate(4, 0, 2)\n",
    "print(ll)"
   ]
  },
  {
   "cell_type": "code",
   "execution_count": 239,
   "metadata": {
    "collapsed": false
   },
   "outputs": [
    {
     "name": "stdout",
     "output_type": "stream",
     "text": [
      "0 -> 1 -> 2\n"
     ]
    }
   ],
   "source": [
    "remove_duplicates_follow(ll)\n",
    "print(ll)"
   ]
  },
  {
   "cell_type": "code",
   "execution_count": 315,
   "metadata": {
    "collapsed": false
   },
   "outputs": [],
   "source": [
    "# 2.2 \n",
    "# Use recursive solution. The base case is linkedlist reaches last node, return index of 0. \n",
    "# Each recursive call, the index +1. Until the index reaches k, after calling recursively k times, print out the node\n",
    "\n",
    "def findkthtolast(current, k):\n",
    "    if current.next is None: # base case \n",
    "        return 0 \n",
    "    index = findkthtolast(current.next, k) + 1\n",
    "    if index == k:\n",
    "        print(current)\n",
    "    return index"
   ]
  },
  {
   "cell_type": "code",
   "execution_count": 317,
   "metadata": {
    "collapsed": false
   },
   "outputs": [
    {
     "name": "stdout",
     "output_type": "stream",
     "text": [
      "0 -> 1 -> 2\n"
     ]
    }
   ],
   "source": [
    "print(ll)"
   ]
  },
  {
   "cell_type": "code",
   "execution_count": 322,
   "metadata": {
    "collapsed": false
   },
   "outputs": [
    {
     "name": "stdout",
     "output_type": "stream",
     "text": [
      "0\n"
     ]
    },
    {
     "data": {
      "text/plain": [
       "2"
      ]
     },
     "execution_count": 322,
     "metadata": {},
     "output_type": "execute_result"
    }
   ],
   "source": [
    "findkthtolast(ll.head, 2)"
   ]
  },
  {
   "cell_type": "code",
   "execution_count": 262,
   "metadata": {
    "collapsed": false
   },
   "outputs": [],
   "source": [
    "# 2.2 \n",
    "# Use two pointers. 1). runner 2). current\n",
    "# step1: place runner running kth node into the linkedlist \n",
    "# step2: runner and current runs at the same path. When runner reaches to the end, the current is the kth to the last\n",
    "def findkthtolast(ll, k):\n",
    "    current = ll.head\n",
    "    runner = ll.head\n",
    "    for i in range(k): # step 1\n",
    "        if runner.next == None:\n",
    "            return None\n",
    "        runner = runner.next\n",
    "    while runner: # step 2\n",
    "        runner = runner.next\n",
    "        current = current.next\n",
    "    return current\n",
    "        \n"
   ]
  },
  {
   "cell_type": "code",
   "execution_count": 266,
   "metadata": {
    "collapsed": false
   },
   "outputs": [
    {
     "name": "stdout",
     "output_type": "stream",
     "text": [
      "0 -> 1 -> 2\n"
     ]
    }
   ],
   "source": [
    "print(ll)"
   ]
  },
  {
   "cell_type": "code",
   "execution_count": 270,
   "metadata": {
    "collapsed": true
   },
   "outputs": [],
   "source": [
    "t = findkthtolast(ll, 2)"
   ]
  },
  {
   "cell_type": "code",
   "execution_count": 271,
   "metadata": {
    "collapsed": false
   },
   "outputs": [
    {
     "name": "stdout",
     "output_type": "stream",
     "text": [
      "1\n"
     ]
    }
   ],
   "source": [
    "print(t)"
   ]
  },
  {
   "cell_type": "code",
   "execution_count": null,
   "metadata": {
    "collapsed": true
   },
   "outputs": [],
   "source": [
    "# 2.3 \n",
    "# ref: https://github.com/careercup/CtCI-6th-Edition-Python/blob/master/Chapter2/3_Delete_Middle_Node.py\n",
    "def del_mid_node(node):\n",
    "    if node == None or node.next == None:\n",
    "        return False\n",
    "    # copy the data from the next node over to the current node\n",
    "    node.value = node.next.value\n",
    "    node.next = node.next.next"
   ]
  },
  {
   "cell_type": "code",
   "execution_count": null,
   "metadata": {
    "collapsed": true
   },
   "outputs": [],
   "source": [
    "#2.4\n",
    "# ref: https://leetcode.com/problems/partition-list/solution/\n",
    "def partition(head, x):\n",
    "    before = before_head = ListNode(0)\n",
    "    after = after_head = ListNode(0)\n",
    "    while head:\n",
    "        if head.val < x:\n",
    "            before.next = head\n",
    "            before = before.next\n",
    "        else: \n",
    "            after.next = head\n",
    "            after = after.next\n",
    "    head = head.next\n",
    "    \n",
    "    after.next = None\n",
    "    before.next = after_head.next\n",
    "    \n",
    "    return before_head.next"
   ]
  },
  {
   "cell_type": "code",
   "execution_count": null,
   "metadata": {
    "collapsed": true
   },
   "outputs": [],
   "source": [
    "# 2.5\n",
    "# ref: https://leetcode.com/problems/add-two-numbers/solution/\n",
    "def addTwoNumbers(l1, l2):\n",
    "    result = ListNode(0)\n",
    "    result_tail = result\n",
    "    carry = 0\n",
    "    \n",
    "    while l1 or l2 or carry:\n",
    "        val1 = (l1.val if l1 else 0)\n",
    "        val2 = (l2.val if l2 else 0)\n",
    "        carry, out = divmod(val1 + val2 + carry, 10)\n",
    "        result_tail.next = ListNode(out)\n",
    "        result_tail = result_tail.next\n",
    "        \n",
    "        l1 = (l1.next if l1 else None)\n",
    "        l2 = (l2.next if l2 else None)\n",
    "    return result.next"
   ]
  },
  {
   "cell_type": "code",
   "execution_count": null,
   "metadata": {
    "collapsed": true
   },
   "outputs": [],
   "source": [
    "# 2.5 followup\n",
    "# ref: https://github.com/careercup/CtCI-6th-Edition-Python/blob/master/Chapter2/5_Sum_Lists.py\n",
    "def sum_lists_follow(l1, l2):\n",
    "    if len(l1) < len(l2):\n",
    "        for i in range(len(l2)-len(l1)):\n",
    "            l1.add_to_beginning(0)\n",
    "    else:\n",
    "        for i in range(len(l1)-len(l2)):\n",
    "            l2.add_to_beginning(0)\n",
    "    n1, n2 = l1.head, l2.head\n",
    "    result = 0\n",
    "    while n1 and n2:\n",
    "        result = (result * 10) + n1.val + n2.val\n",
    "        n1 = n1.next\n",
    "        n2 = n2.next\n",
    "        "
   ]
  },
  {
   "cell_type": "code",
   "execution_count": null,
   "metadata": {
    "collapsed": true
   },
   "outputs": [],
   "source": [
    "#2.6 \n",
    "# ref: https://leetcode.com/problems/palindrome-linked-list/discuss/64500/11-lines-12-with-restore-O(n)-time-O(1)-space\n",
    "# ref: https://www.youtube.com/watch?v=oZuR2-AKkXE\n",
    "def isPalindrome(head):\n",
    "    rev = None\n",
    "    slow = fast = head\n",
    "    while fast and fast.next:\n",
    "        fast = fast.next.next\n",
    "        rev, rev.next, slow = slow, rev, slow.next\n",
    "    if fast:\n",
    "        slow = slow.next\n",
    "    \n",
    "    while rev and rev.val == slow.val:\n",
    "        slow = slow.next\n",
    "        rev = rev.next\n",
    "    return not rev\n",
    "    \n",
    "    "
   ]
  },
  {
   "cell_type": "code",
   "execution_count": null,
   "metadata": {
    "collapsed": true
   },
   "outputs": [],
   "source": [
    "#2.7\n",
    "def intersec(l1, l2):\n",
    "    shorter = l1 if len(l1) < len(l2) else l2\n",
    "    longer = l2 if len(l1) < len(l2) else l1\n",
    "    dif = len(longer)-len(shorter)\n",
    "    shorter_node, longer_node = shorter.head, longer.head\n",
    "    \n",
    "    for i in range(dif):\n",
    "        longer_node = longer_node.next\n",
    "    \n",
    "    while shorter_node is not longer_node:\n",
    "        shorter_node = shorter_node.next\n",
    "        longer_node = longer_node.next\n",
    "    \n",
    "    return longer_node"
   ]
  }
 ],
 "metadata": {
  "anaconda-cloud": {},
  "kernelspec": {
   "display_name": "Python [default]",
   "language": "python",
   "name": "python2"
  },
  "language_info": {
   "codemirror_mode": {
    "name": "ipython",
    "version": 2
   },
   "file_extension": ".py",
   "mimetype": "text/x-python",
   "name": "python",
   "nbconvert_exporter": "python",
   "pygments_lexer": "ipython2",
   "version": "2.7.12"
  }
 },
 "nbformat": 4,
 "nbformat_minor": 1
}
