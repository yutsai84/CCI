{
 "cells": [
  {
   "cell_type": "code",
   "execution_count": 6,
   "metadata": {
    "collapsed": true
   },
   "outputs": [],
   "source": [
    "# 1.2 \n",
    "def isPer(str1, str2):\n",
    "    if len(str1) != len(str2):\n",
    "        return False\n",
    "    letters = [0 for _ in range(128)]\n",
    "    for cha in str1:\n",
    "        letters[ord(cha)] +=1\n",
    "    for cha in str2:\n",
    "        letters[ord(cha)] -=1\n",
    "        if letters[ord(cha)] <0:\n",
    "            return False \n",
    "    return True"
   ]
  },
  {
   "cell_type": "code",
   "execution_count": 8,
   "metadata": {
    "collapsed": false
   },
   "outputs": [
    {
     "data": {
      "text/plain": [
       "False"
      ]
     },
     "execution_count": 8,
     "metadata": {},
     "output_type": "execute_result"
    }
   ],
   "source": [
    "isPer('abcd', 'cab')"
   ]
  },
  {
   "cell_type": "code",
   "execution_count": 9,
   "metadata": {
    "collapsed": true
   },
   "outputs": [],
   "source": [
    "def isPer_v1(str1, str2):\n",
    "    str1_s = str1.sort()\n",
    "    str2_s = str2.sort()\n",
    "    if len(str1)!= len(str2):\n",
    "        return False\n",
    "    return str1_s == str2_s"
   ]
  },
  {
   "cell_type": "code",
   "execution_count": 11,
   "metadata": {
    "collapsed": false
   },
   "outputs": [
    {
     "data": {
      "text/plain": [
       "True"
      ]
     },
     "execution_count": 11,
     "metadata": {},
     "output_type": "execute_result"
    }
   ],
   "source": [
    "isPer('abc', 'cab')"
   ]
  },
  {
   "cell_type": "code",
   "execution_count": 12,
   "metadata": {
    "collapsed": true
   },
   "outputs": [],
   "source": [
    "# 1.3\n",
    "def replace(strs):\n",
    "    return '%20'.join(strs.split(' '))\n"
   ]
  },
  {
   "cell_type": "code",
   "execution_count": 14,
   "metadata": {
    "collapsed": false
   },
   "outputs": [
    {
     "data": {
      "text/plain": [
       "'Mr%20John%20Smith'"
      ]
     },
     "execution_count": 14,
     "metadata": {},
     "output_type": "execute_result"
    }
   ],
   "source": [
    "replace(\"Mr John Smith\")"
   ]
  },
  {
   "cell_type": "code",
   "execution_count": 85,
   "metadata": {
    "collapsed": true
   },
   "outputs": [],
   "source": [
    "def replace_v1(strs, truelength):\n",
    "    strs = list(strs)\n",
    "    nindex = len(strs)\n",
    "    for i in reversed(range(truelength)):\n",
    "        if strs[i] == \" \":\n",
    "            strs[nindex - 1] = '0'\n",
    "            strs[nindex - 2] = '2'\n",
    "            strs[nindex - 3] = '%'\n",
    "            nindex -=3\n",
    "        else:\n",
    "            strs[nindex -1] = strs[i]\n",
    "            nindex -=1\n",
    "    return ''.join(strs) "
   ]
  },
  {
   "cell_type": "code",
   "execution_count": 32,
   "metadata": {
    "collapsed": false
   },
   "outputs": [
    {
     "data": {
      "text/plain": [
       "['h', 'e', 'l', 'l', 'o']"
      ]
     },
     "execution_count": 32,
     "metadata": {},
     "output_type": "execute_result"
    }
   ],
   "source": [
    "strs = 'hello'\n",
    "list(strs)"
   ]
  },
  {
   "cell_type": "code",
   "execution_count": 86,
   "metadata": {
    "collapsed": false
   },
   "outputs": [
    {
     "data": {
      "text/plain": [
       "'Mr%20John%20Smith'"
      ]
     },
     "execution_count": 86,
     "metadata": {},
     "output_type": "execute_result"
    }
   ],
   "source": [
    "replace_v1('Mr John Smith    ', 13)"
   ]
  },
  {
   "cell_type": "code",
   "execution_count": 97,
   "metadata": {
    "collapsed": false
   },
   "outputs": [],
   "source": [
    "#1.4 \n",
    "def isPerPal(strs):\n",
    "    # remove any space\n",
    "    strs = ''.join(strs.split(' '))\n",
    "    # make every character lower case\n",
    "    strs = strs.lower() \n",
    "    print(strs)\n",
    "    # if string length is even number, all character must be even number\n",
    "    # if string length is odd number, only one character is odd. And the rest is even number\n",
    "    from collections import Counter\n",
    "    c = Counter(strs)\n",
    "    print(c)\n",
    "    \n",
    "    if len(strs) %2 == 0:\n",
    "        for cha in strs:\n",
    "            if c[cha] %2 != 0:\n",
    "                return False\n",
    "        return True\n",
    "    else:\n",
    "        counter = 0\n",
    "        for cha in strs:\n",
    "            if c[cha] %2 !=0:\n",
    "                counter +=1\n",
    "            if counter > 1:\n",
    "                return False\n",
    "                break\n",
    "        return True"
   ]
  },
  {
   "cell_type": "code",
   "execution_count": 98,
   "metadata": {
    "collapsed": false
   },
   "outputs": [
    {
     "name": "stdout",
     "output_type": "stream",
     "text": [
      "tactcoa\n",
      "Counter({'a': 2, 'c': 2, 't': 2, 'o': 1})\n"
     ]
    },
    {
     "data": {
      "text/plain": [
       "True"
      ]
     },
     "execution_count": 98,
     "metadata": {},
     "output_type": "execute_result"
    }
   ],
   "source": [
    "isPerPal('Tact Coa')"
   ]
  },
  {
   "cell_type": "code",
   "execution_count": 100,
   "metadata": {
    "collapsed": true
   },
   "outputs": [],
   "source": [
    "#1.4 \n",
    "def isPerPal_v1(strs):\n",
    "    # remove any space\n",
    "    strs = ''.join(strs.split(' '))\n",
    "    # make every character lower case\n",
    "    strs = strs.lower() \n",
    "    p = set()\n",
    "    for s in strs:\n",
    "        if s in p:\n",
    "            p.remove(s)\n",
    "        else:\n",
    "            p.add(s)\n",
    "    if len(p) > 1:\n",
    "        return False\n",
    "    else: \n",
    "        return True"
   ]
  },
  {
   "cell_type": "code",
   "execution_count": 101,
   "metadata": {
    "collapsed": false
   },
   "outputs": [
    {
     "data": {
      "text/plain": [
       "True"
      ]
     },
     "execution_count": 101,
     "metadata": {},
     "output_type": "execute_result"
    }
   ],
   "source": [
    "isPerPal_v1('Tact Coa')"
   ]
  },
  {
   "cell_type": "code",
   "execution_count": 143,
   "metadata": {
    "collapsed": false
   },
   "outputs": [],
   "source": [
    "from collections import Counter\n",
    "import numpy as np\n",
    "\n",
    "def isOne(str1, str2):\n",
    "    c1 = Counter(str1)\n",
    "    c2 = Counter(str2)\n",
    "    counter = 0 # count of # of edits\n",
    "    if np.abs(len(str1) - len(str2)) > 1: # if lengths of str1 and str2 are greater than 2\n",
    "        return False\n",
    "    sets = set(str1+str2) # super set of two strings\n",
    "    \n",
    "    if len(str1) == len(str2):\n",
    "        for cha in str1:\n",
    "            if c1[cha] != c2[cha]:\n",
    "                counter +=1\n",
    "            if counter > 1:\n",
    "                return False\n",
    "        return True \n",
    "    \n",
    "    for cha in sets:\n",
    "        if c1[cha] != c2[cha]:\n",
    "            counter +=1\n",
    "        if counter > 1: # if more than one edit\n",
    "            return False\n",
    "    return True"
   ]
  },
  {
   "cell_type": "code",
   "execution_count": 168,
   "metadata": {
    "collapsed": true
   },
   "outputs": [],
   "source": [
    "def isOne_v1(str1, str2):\n",
    "    # if two strings with same length --> check # of edits by a pair of character from each string\n",
    "    # if two strings with the different length by 1 --> check # of edits by traversing through each string;\n",
    "    #   if the same character, the pointers of both short and long string advance\n",
    "    #   if different character, the pointers of long string advances\n",
    "    if np.abs(len(str1) - len(str2)) > 1: \n",
    "        return False       \n",
    "    \n",
    "    def same_length(s1, s2): # same string length function\n",
    "        edited = False\n",
    "        for cha1, cha2 in zip(s1, s2):\n",
    "            if cha1 != cha2:\n",
    "                if edited: # if one time difference (above) and this time also is edited\n",
    "                    return False # two times edit means False\n",
    "                edited = True # if no one time difference, this time is edited, call out first edit\n",
    "        return True # if finish the checking for all pairs of string, no return False, then this must return True\n",
    "    def diff_length(s1, s2): # one length difference function, where s1 is shorter than s2 by 1\n",
    "        edited = False\n",
    "        idx1, idx2 = 0, 0\n",
    "        while idx1 < len(s1) and idx2 < len(s2):\n",
    "            if s1[idx1] != s2[idx2]: # the first time encouter difference (edit)\n",
    "                if edited: # if already edited \n",
    "                    return False\n",
    "                edited = True\n",
    "                idx2 += 1  \n",
    "            else:\n",
    "                idx1 +=1\n",
    "                idx2 +=1\n",
    "        return True # when while loop finishes, no False return, then it must be only one edit\n",
    "        \n",
    "    if len(str1) == len(str2):\n",
    "        return same_length(str1, str2)\n",
    "    elif len(str1) + 1 == len(str2):\n",
    "        return diff_length(str1, str2)\n",
    "    elif len(str2) + 1 == len(str1):\n",
    "        return diff_length(str2, str1)\n",
    "\n",
    "            "
   ]
  },
  {
   "cell_type": "code",
   "execution_count": 165,
   "metadata": {
    "collapsed": false
   },
   "outputs": [],
   "source": [
    "data = [\n",
    "        ('pale', 'ple', True),\n",
    "        ('pales', 'pale', True),\n",
    "        ('pale', 'bale', True),\n",
    "        ('paleabc', 'pleabc', True),\n",
    "        ('pale', 'ble', False),\n",
    "        ('a', 'b', True),\n",
    "        ('', 'd', True),\n",
    "        ('d', 'de', True),\n",
    "        ('pale', 'pale', True),\n",
    "        ('pale', 'ple', True),\n",
    "        ('ple', 'pale', True),\n",
    "        ('pale', 'bale', True),\n",
    "        ('pale', 'bake', False),\n",
    "        ('pale', 'pse', False),\n",
    "        ('ples', 'pales', True),\n",
    "        ('pale', 'pas', False),\n",
    "        ('pas', 'pale', False),\n",
    "        ('pale', 'pkle', True),\n",
    "        ('pkle', 'pable', False),\n",
    "        ('pal', 'palks', False),\n",
    "        ('palks', 'pal', False)\n",
    "    ]\n",
    "\n",
    "\n",
    "for [test_s1, test_s2, expected] in data:\n",
    "    actual = isOne(test_s1, test_s2)\n",
    "    assert actual ==  expected\n",
    "\n"
   ]
  },
  {
   "cell_type": "code",
   "execution_count": 169,
   "metadata": {
    "collapsed": false
   },
   "outputs": [],
   "source": [
    "for [test_s1, test_s2, expected] in data:\n",
    "    actual = isOne_v1(test_s1, test_s2)\n",
    "    assert actual ==  expected"
   ]
  },
  {
   "cell_type": "code",
   "execution_count": 5,
   "metadata": {
    "collapsed": true
   },
   "outputs": [],
   "source": [
    "# 1.6 \n",
    "# ref: https://github.com/careercup/CtCI-6th-Edition-Python/blob/master/Chapter1/6_String%20Compression/StringCompression.py\n",
    "def stringComp(strs):\n",
    "    # compressed the original string and return the shorter one between the original string \n",
    "    #and the compressed string\n",
    "    strs = list(strs)\n",
    "    comp = [] # the compressed string\n",
    "    counter = 0 # count how many repetitions of a character, set to zero to begin with\n",
    "    \n",
    "    for i in range(len(strs)):\n",
    "        if (i!=0) and (strs[i] != strs[i-1]): # starting from the second character, if the current string is different from the previous one\n",
    "            comp.append(strs[i-1] + str(counter)) # append the previous character and the counts\n",
    "            counter = 0 # re-set the counter to zero\n",
    "        counter +=1\n",
    "    # append the last character and its count\n",
    "    comp.append(strs[-1] + str(counter))\n",
    "    \n",
    "    return min(''.join(comp), strs, key = len)\n",
    "    "
   ]
  },
  {
   "cell_type": "code",
   "execution_count": 6,
   "metadata": {
    "collapsed": false
   },
   "outputs": [
    {
     "data": {
      "text/plain": [
       "'a2b1c5a3'"
      ]
     },
     "execution_count": 6,
     "metadata": {},
     "output_type": "execute_result"
    }
   ],
   "source": [
    "stringComp('aabcccccaaa')"
   ]
  },
  {
   "cell_type": "code",
   "execution_count": null,
   "metadata": {
    "collapsed": true
   },
   "outputs": [],
   "source": [
    "# 1.7 \n",
    "# ref: https://leetcode.com/problems/rotate-image/discuss/18884/Seven-Short-Solutions-(1-to-7-lines)\n",
    "# ref: https://www.youtube.com/watch?v=TA7tylIlDao\n",
    "\n",
    "def rotM(matrix):\n",
    "    matrix.reverse()\n",
    "    for i in range(len(matrix)):\n",
    "        for j in range(i):\n",
    "            matrix[i][j], matrix[j][i] = matrix[j][i], matrix[i][j]\n",
    "    return matrix\n"
   ]
  },
  {
   "cell_type": "code",
   "execution_count": 50,
   "metadata": {
    "collapsed": true
   },
   "outputs": [],
   "source": [
    "#1.8 zero matrix\n",
    "def nullrow(M, zrow):\n",
    "    for i in range(len(M[0])):\n",
    "        M[zrow][i] = 0\n",
    "        \n",
    "def nullcol(M, zcol):\n",
    "    for i in range(len(M)):\n",
    "        M[i][zcol] = 0\n",
    "\n",
    "def zeromatrix(M):\n",
    "    nrow = len(M)\n",
    "    ncol = len(M[0])\n",
    "    zrow = [] # any zero in row\n",
    "    zcol = [] # any zero in col\n",
    "    for row in range(nrow):\n",
    "        for col in range(ncol):\n",
    "            if M[row][col] == 0:\n",
    "                zrow.append(row)\n",
    "                zcol.append(col)\n",
    "    \n",
    "    print zrow\n",
    "    print zcol\n",
    "    for row in zrow:\n",
    "        nullrow(M, row)\n",
    "    for col in zcol:\n",
    "        nullcol(M, col)\n",
    "    return M\n",
    "    "
   ]
  },
  {
   "cell_type": "code",
   "execution_count": 51,
   "metadata": {
    "collapsed": false
   },
   "outputs": [
    {
     "name": "stdout",
     "output_type": "stream",
     "text": [
      "[0, 1, 3]\n",
      "[4, 1, 1]\n"
     ]
    },
    {
     "data": {
      "text/plain": [
       "[[0, 0, 0, 0, 0],\n",
       " [0, 0, 0, 0, 0],\n",
       " [11, 0, 13, 14, 0],\n",
       " [0, 0, 0, 0, 0],\n",
       " [21, 0, 23, 24, 0]]"
      ]
     },
     "execution_count": 51,
     "metadata": {},
     "output_type": "execute_result"
    }
   ],
   "source": [
    "M = [\n",
    "    [1, 2, 3, 4, 0],\n",
    "    [6, 0, 8, 9, 10],\n",
    "    [11, 12, 13, 14, 15],\n",
    "    [16, 0, 18, 19, 20],\n",
    "    [21, 22, 23, 24, 25]\n",
    "    ]\n",
    "zeromatrix(M)"
   ]
  },
  {
   "cell_type": "code",
   "execution_count": 52,
   "metadata": {
    "collapsed": true
   },
   "outputs": [],
   "source": [
    "#1.9 \n",
    "def is_sub(strs, sub):\n",
    "    return strs.find(sub) != -1\n",
    "\n",
    "def stringrot(str1, str2):\n",
    "    if len(str1) == len(str2)!=0:\n",
    "        return is_sub(str1+str2, str2)\n",
    "    return False\n",
    "        "
   ]
  },
  {
   "cell_type": "code",
   "execution_count": 55,
   "metadata": {
    "collapsed": false
   },
   "outputs": [
    {
     "data": {
      "text/plain": [
       "True"
      ]
     },
     "execution_count": 55,
     "metadata": {},
     "output_type": "execute_result"
    }
   ],
   "source": [
    "stringrot('waterbottle', 'erbottlewat')"
   ]
  },
  {
   "cell_type": "code",
   "execution_count": 13,
   "metadata": {
    "collapsed": true
   },
   "outputs": [],
   "source": [
    "# check if there's a pair of elements in an array added up to a given number\n",
    "# ref: https://www.geeksforgeeks.org/given-an-array-a-and-a-number-x-check-for-pair-in-a-with-sum-as-x/\n",
    "def printPairs(arr, arr_size, sums):\n",
    "    s = set()\n",
    "    for i in range(0, arr_size-1):\n",
    "        tmp = sums-arr[i]\n",
    "        if tmp in s:\n",
    "            print 'pair with given sum ' + str(sums) + ' is ' + str(arr[i]) + ' and '+ str(tmp)\n",
    "        s.add(arr[i])"
   ]
  },
  {
   "cell_type": "code",
   "execution_count": 14,
   "metadata": {
    "collapsed": false
   },
   "outputs": [
    {
     "name": "stdout",
     "output_type": "stream",
     "text": [
      "pair with given sum 16 is 10 and 6\n"
     ]
    }
   ],
   "source": [
    "A = [1, 4, 45, 6, 10, 8] \n",
    "n = 16\n",
    "printPairs(A, len(A), n) "
   ]
  },
  {
   "cell_type": "code",
   "execution_count": 24,
   "metadata": {
    "collapsed": true
   },
   "outputs": [],
   "source": [
    "# find if there's a triplet in an array added up to a given number\n",
    "def find3numbers(A, arr_size, sums):\n",
    "    for i in range(0, arr_size-1):\n",
    "        s = set()\n",
    "        curr_sum = sums - A[i]\n",
    "        for j in range(i+1, arr_size-1):\n",
    "            if curr_sum - A[j] in s:\n",
    "                print 'triplet is: ' + str(A[i]) + ', ' + str(A[j]) +  ', ' + str(curr_sum-A[j])\n",
    "            s.add(A[j])\n",
    "            "
   ]
  },
  {
   "cell_type": "code",
   "execution_count": 25,
   "metadata": {
    "collapsed": false
   },
   "outputs": [],
   "source": [
    "A = [1, 4, 45, 6, 10, 8]  \n",
    "sums = 22\n",
    "arr_size = len(A)  \n",
    "find3numbers(A, arr_size, sums) "
   ]
  },
  {
   "cell_type": "code",
   "execution_count": null,
   "metadata": {
    "collapsed": true
   },
   "outputs": [],
   "source": []
  }
 ],
 "metadata": {
  "anaconda-cloud": {},
  "kernelspec": {
   "display_name": "Python [conda root]",
   "language": "python",
   "name": "conda-root-py"
  },
  "language_info": {
   "codemirror_mode": {
    "name": "ipython",
    "version": 2
   },
   "file_extension": ".py",
   "mimetype": "text/x-python",
   "name": "python",
   "nbconvert_exporter": "python",
   "pygments_lexer": "ipython2",
   "version": "2.7.12"
  }
 },
 "nbformat": 4,
 "nbformat_minor": 1
}
