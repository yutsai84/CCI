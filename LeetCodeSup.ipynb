{
 "cells": [
  {
   "cell_type": "code",
   "execution_count": 3,
   "metadata": {
    "collapsed": false
   },
   "outputs": [],
   "source": [
    "# 438\n",
    "from collections import Counter\n",
    "\n",
    "def fA(s, p):\n",
    "    res = []\n",
    "    pC = Counter(p)\n",
    "    sC = Counter(s[:len(p)-1])\n",
    "    for i in range(len(p)-1, len(s)):\n",
    "        sC[s[i]] +=1\n",
    "        if sC == pC:\n",
    "            res.append(i-len(p)+1)\n",
    "        sC[s[i-len(p)+1]] -=1\n",
    "        if sC[s[i-len(p)+1]] == 0:\n",
    "            del sC[s[i-len(p)+1]]\n",
    "    return res"
   ]
  },
  {
   "cell_type": "code",
   "execution_count": null,
   "metadata": {
    "collapsed": true
   },
   "outputs": [],
   "source": [
    "# 5\n",
    "# ref: https://www.youtube.com/watch?v=0xeBqanD5GQ\n",
    "class Solution:\n",
    "    def longestPalindrome(self, s: str) -> str:\n",
    "        l = len(s)\n",
    "        if s is None or l < 2:\n",
    "            return s\n",
    "        isP = [[False for i in range(l)] for j in range(l)]\n",
    "        left = 0\n",
    "        right = 0\n",
    "        \n",
    "        for j in range(1, l):\n",
    "            for i in range(0, j):\n",
    "                isIWP = isP[i+1][j-1] or j-i <=2\n",
    "                if s[i] == s[j] and isIWP:\n",
    "                    isP[i][j] = True\n",
    "                    if (j-i > right -left):\n",
    "                        left = i\n",
    "                        right = j\n",
    "        return s[left:right+1]"
   ]
  },
  {
   "cell_type": "code",
   "execution_count": null,
   "metadata": {
    "collapsed": true
   },
   "outputs": [],
   "source": [
    "# 516 \n",
    "# ref: https://www.youtube.com/watch?v=_nCsPn7_OgI"
   ]
  },
  {
   "cell_type": "code",
   "execution_count": null,
   "metadata": {
    "collapsed": true
   },
   "outputs": [],
   "source": [
    "# 121\n",
    "# ref: https://leetcode.com/problems/best-time-to-buy-and-sell-stock/solution/\n",
    "\n",
    "def mP(prices):\n",
    "    if len(prices) == 0:\n",
    "        return 0\n",
    "    else:\n",
    "        mp = 0\n",
    "        low = float('inf')\n",
    "        for p in prices:\n",
    "            if p > low:\n",
    "                if p - low > mp:\n",
    "                    mp = p-low\n",
    "            elif p < low:\n",
    "                low = p\n",
    "    return mp"
   ]
  },
  {
   "cell_type": "code",
   "execution_count": null,
   "metadata": {
    "collapsed": true
   },
   "outputs": [],
   "source": [
    "# 206 Reverse Linked List\n",
    "# ref: recursive: https://www.youtube.com/watch?v=4mm39dVLlZ0\n",
    "# ref: https://leetcode.com/problems/reverse-linked-list/\n",
    "def reL(head):\n",
    "    if head is None or head.next is None:\n",
    "        return head\n",
    "    p = reL(head.next)\n",
    "    head.next.next = head\n",
    "    head.next = None\n",
    "    return p\n",
    "\n",
    "# iterative\n",
    "def reL(head):\n",
    "    pre, cur = None, head\n",
    "    while cur:\n",
    "        cur.next, pre, cur = pre, cur, cur.next\n",
    "    return prev\n"
   ]
  },
  {
   "cell_type": "code",
   "execution_count": 13,
   "metadata": {
    "collapsed": true
   },
   "outputs": [],
   "source": [
    "# amazon coding phone screen 12/20/19\n",
    "M = [[0,0,0,1,1],\n",
    "     [0,0,1,1,1],\n",
    "     [0,0,1,1,1]]\n",
    "\n",
    "def findMinCol(M):\n",
    "    def bS(arr, s, e, t):\n",
    "        mid = (s+e)//2\n",
    "        if arr[mid] == t:\n",
    "            return mid\n",
    "        if arr[mid] > t:\n",
    "            return bS(arr, s, mid-1, t)\n",
    "        elif arr[mid] < t:\n",
    "            return bS(arr, mid+1, e, t)\n",
    "    s = 0\n",
    "    e = len(M)\n",
    "    cur_c_i = []\n",
    "    for r in range(len(M)):\n",
    "        cur_c_i.append(bS(M[r][:], s, e, 1))\n",
    "    return min(cur_c_i)    \n",
    "\n",
    "#time complexity: O(row*log(col))"
   ]
  },
  {
   "cell_type": "code",
   "execution_count": 14,
   "metadata": {
    "collapsed": false
   },
   "outputs": [
    {
     "data": {
      "text/plain": [
       "2"
      ]
     },
     "execution_count": 14,
     "metadata": {},
     "output_type": "execute_result"
    }
   ],
   "source": [
    "findMinCol(M)"
   ]
  },
  {
   "cell_type": "code",
   "execution_count": 63,
   "metadata": {
    "collapsed": true
   },
   "outputs": [],
   "source": [
    "M = [[0,0,0,1,1],\n",
    "     [0,0,0,1,1],\n",
    "     [0,0,1,1,1]]"
   ]
  },
  {
   "cell_type": "code",
   "execution_count": 64,
   "metadata": {
    "collapsed": false
   },
   "outputs": [],
   "source": [
    "# ref: https://www.youtube.com/watch?v=5dJSZLmDsxk\n",
    "# find 1 from the last column of first row (starting from the top right corner)\n",
    "# only search for to-to-left of the column of the previous row\n",
    "\n",
    "def findMinCol_v1(M):\n",
    "    rl = len(M)\n",
    "    cl = len(M[0])\n",
    "    r = 0\n",
    "    c = cl - 1\n",
    "    res = []\n",
    "    while r < rl and c >=0:\n",
    "        if M[r][c] == 0:\n",
    "            res = c + 1\n",
    "            r +=1\n",
    "        else:\n",
    "            c -=1         \n",
    "    return res\n",
    "             \n",
    "# time O(row+col)"
   ]
  },
  {
   "cell_type": "code",
   "execution_count": 65,
   "metadata": {
    "collapsed": false
   },
   "outputs": [
    {
     "data": {
      "text/plain": [
       "2"
      ]
     },
     "execution_count": 65,
     "metadata": {},
     "output_type": "execute_result"
    }
   ],
   "source": [
    "findMinCol_v1(M)"
   ]
  },
  {
   "cell_type": "code",
   "execution_count": null,
   "metadata": {
    "collapsed": true
   },
   "outputs": [],
   "source": [
    "# 240 # search from top right\n",
    "class Solution:\n",
    "    def searchMatrix(self, matrix, target):\n",
    "        \"\"\"\n",
    "        :type matrix: List[List[int]]\n",
    "        :type target: int\n",
    "        :rtype: bool\n",
    "        \"\"\"\n",
    "        if len(matrix) == 0:\n",
    "            return False\n",
    "        lr, lc = len(matrix), len(matrix[0])\n",
    "        r = 0\n",
    "        c = lc-1\n",
    "        while r<lr and c>=0:\n",
    "            if matrix[r][c] == target:\n",
    "                return True\n",
    "            if matrix[r][c] > target:\n",
    "                c-=1\n",
    "            else: \n",
    "                r+=1\n",
    "        return False"
   ]
  },
  {
   "cell_type": "code",
   "execution_count": null,
   "metadata": {
    "collapsed": true
   },
   "outputs": [],
   "source": [
    "# 74 search from top right\n",
    "class Solution:\n",
    "    def searchMatrix(self, matrix: List[List[int]], target: int) -> bool:\n",
    "        if len(matrix) == 0:\n",
    "            return False\n",
    "        lc = len(matrix[0])\n",
    "        lr = len(matrix)\n",
    "        r = 0\n",
    "        c = lc-1\n",
    "        while r<lr and c>=0:\n",
    "            if matrix[r][c] == target:\n",
    "                return True\n",
    "            if matrix[r][c] > target:\n",
    "                c -=1\n",
    "            elif matrix[r][c] < target:\n",
    "                r +=1\n",
    "        return False"
   ]
  },
  {
   "cell_type": "code",
   "execution_count": null,
   "metadata": {
    "collapsed": true
   },
   "outputs": [],
   "source": [
    "# 3\n",
    "class Solution:\n",
    "    def lengthOfLongestSubstring(self, s: str) -> int:\n",
    "        ml = 0\n",
    "        v = set()\n",
    "        i = j = 0\n",
    "        while j < len(s):\n",
    "            if s[j] not in v:\n",
    "                v.add(s[j])\n",
    "                j +=1\n",
    "                ml = max(ml, j-i)\n",
    "            else:\n",
    "                v.remove(s[i])\n",
    "                i +=1\n",
    "        return ml"
   ]
  },
  {
   "cell_type": "code",
   "execution_count": null,
   "metadata": {
    "collapsed": true
   },
   "outputs": [],
   "source": [
    "# 162\n",
    "# ref: https://www.youtube.com/watch?v=L7gNay1c4ak\n",
    "class Solution:\n",
    "    def findPeakElement(self, nums: List[int]) -> int:\n",
    "        s = 0\n",
    "        e = len(nums)-1\n",
    "        while s < e:\n",
    "            mid = (s+e)//2\n",
    "            if nums[mid] < nums[mid+1]:\n",
    "                s = mid + 1\n",
    "            else:\n",
    "                e = mid\n",
    "        return e # return s or e (they're the same)"
   ]
  },
  {
   "cell_type": "code",
   "execution_count": null,
   "metadata": {
    "collapsed": true
   },
   "outputs": [],
   "source": [
    "#300\n",
    "# ref: https://leetcode.com/problems/longest-increasing-subsequence/discuss/75002/Python%3A-dp-with-O(n2)-binary-search-with-O(nlogn)\n",
    "# ref: https://www.youtube.com/watch?v=CE2b_-XfVDk\n",
    "# ref: \n",
    "\n",
    "def lis(arr):\n",
    "    if arr is None:\n",
    "        return 0\n",
    "    dp = [1]*len(arr)\n",
    "    for i in range(1, len(arr)):\n",
    "        for j in range(i):\n",
    "            if arr[j] < arr[i]:\n",
    "                dp[i] = max(dp[i], dp[j]+1)\n",
    "    return max(dp)"
   ]
  },
  {
   "cell_type": "code",
   "execution_count": null,
   "metadata": {
    "collapsed": true
   },
   "outputs": [],
   "source": [
    "# box stacking \n",
    "# ref: https://www.geeksforgeeks.org/box-stacking-problem-dp-22/\n",
    "# ref: https://www.youtube.com/watch?v=9mod_xRB-O0\n",
    "# time: O(N^2), space: O(N)\n",
    "class Box:\n",
    "    def __init__(self, h, w, d):\n",
    "        self.h = h\n",
    "        self.w = w\n",
    "        self.d = d\n",
    "    def maxSH(arr, n):\n",
    "        rot = [Box(0, 0, 0) for _ in range(3*n)]\n",
    "        idx = 0\n",
    "        for i in range(n):\n",
    "            # copy of the origin\n",
    "            rot[idx].h = arr[i].h\n",
    "            rot[idx].d = max(arr[i].d, arr[i].w)\n",
    "            rot[idx].w = min(arr[i].d, arr[i].w)\n",
    "            idx +=1\n",
    "            # first rotation\n",
    "            rot[idx].h = arr[i].w\n",
    "            rot[idx].d = max(arr[i].h, arr[i].d)\n",
    "            rot[idx].w = min(arr[i].h, arr[i].d)\n",
    "            idx +=1\n",
    "            # second rotation\n",
    "            rot[index].h = arr[i].d \n",
    "            rot[index].d = max(arr[i].h, arr[i].w) \n",
    "            rot[index].w = min(arr[i].h, arr[i].w) \n",
    "            index += 1\n",
    "\n",
    "        n *=3\n",
    "        rot.sort(reverse = True)\n",
    "        msh = [0] *n\n",
    "    \n",
    "        for i in range(n):\n",
    "            msh[i] = rot[i].h\n",
    "        \n",
    "        # using leetcode LIS: 300\n",
    "        for i in range(1, n):\n",
    "            for j in range(i):\n",
    "                if rot[i].w < rot[j].w and rot[i].d < rot[j].d:\n",
    "                    if msh[i] < msh[j] + rot[i].h:\n",
    "                        msh[i] = msh[j] + rot[i].h\n",
    "        maxm = -1\n",
    "        for i in range(n):\n",
    "            maxm = max(maxm, msh[i])\n",
    "        return maxm\n",
    "    \n",
    "        "
   ]
  },
  {
   "cell_type": "code",
   "execution_count": null,
   "metadata": {
    "collapsed": true
   },
   "outputs": [],
   "source": [
    "#1275\n",
    "#ref: https://leetcode.com/problems/find-winner-on-a-tic-tac-toe-game/discuss/441319/JavaPython-3-Check-rows-columns-and-two-diagonals-w-brief-explanation-and-analysis.\n",
    "# time O(len(moves))\n",
    "# space O(row+col)\n",
    "def tictactoe(self, moves: List[List[int]]) -> str:\n",
    "    w = [[0,3,6], [1,4,7], [2,5,8], [0,1,2], [3,4,5], [6,7,8], [0,4,8], [2,4,6]] # win cases\n",
    "    m = [0]*9\n",
    "    p = 'A'\n",
    "    for row, col in moves:\n",
    "        m[row*3+col] = p\n",
    "        for i, j, k in w:\n",
    "            if m[i] == m[j] == m[k] and m[i]!=0:\n",
    "                return m[i]\n",
    "        p = 'B' if p == 'A' else 'A'\n",
    "    if len(moves) == 9:\n",
    "        return 'Draw'\n",
    "    return 'Pending'"
   ]
  },
  {
   "cell_type": "code",
   "execution_count": null,
   "metadata": {
    "collapsed": true
   },
   "outputs": [],
   "source": [
    "#172\n",
    "# time log(5,n)\n",
    "# space O(1)\n",
    "# ref: https://leetcode.com/problems/factorial-trailing-zeroes/discuss/52371/My-one-line-solutions-in-3-languages\n",
    "def trailingZeroes(self, n: int) -> int:\n",
    "    return 0 if n == 0 else n // 5 + self.trailingZeroes(n // 5) "
   ]
  },
  {
   "cell_type": "code",
   "execution_count": 66,
   "metadata": {
    "collapsed": true
   },
   "outputs": [],
   "source": [
    "# count squares in a given rectange\n",
    "# ref: https://www.youtube.com/watch?v=R7LYvIsI68k\n",
    "def countSquares(m, n):\n",
    "    m = max(m, n)\n",
    "    n = min(m, n)\n",
    "    res = 0\n",
    "    while n>=1 and m>=0:\n",
    "        res +=m*n\n",
    "        m -=1\n",
    "        n -=1\n",
    "    return res\n"
   ]
  },
  {
   "cell_type": "code",
   "execution_count": 68,
   "metadata": {
    "collapsed": false
   },
   "outputs": [
    {
     "data": {
      "text/plain": [
       "60"
      ]
     },
     "execution_count": 68,
     "metadata": {},
     "output_type": "execute_result"
    }
   ],
   "source": [
    "countSquares(7, 4)"
   ]
  },
  {
   "cell_type": "code",
   "execution_count": null,
   "metadata": {
    "collapsed": true
   },
   "outputs": [],
   "source": [
    "# 593\n",
    "# ref: https://leetcode.com/problems/valid-square/\n",
    "def vs(p1,p2,p3,p4):\n",
    "    def dis(p1,p2):\n",
    "        return (p1[0]-p2[0])**2+(p1[1]-p2[1])**2\n",
    "    ps = [p1,p2,p3,p4]\n",
    "    d = collections.Counter()\n",
    "    for i in range(len(ps)):\n",
    "        for j in range(i+1, len(ps)):\n",
    "            d[dis(ps[i], ps[j])]+=1\n",
    "    return len(d.values()) == 2 and 4 in d.values() and 2 in d.values()"
   ]
  }
 ],
 "metadata": {
  "anaconda-cloud": {},
  "kernelspec": {
   "display_name": "Python [conda env:dlnd-tf-lab]",
   "language": "python",
   "name": "conda-env-dlnd-tf-lab-py"
  },
  "language_info": {
   "codemirror_mode": {
    "name": "ipython",
    "version": 3
   },
   "file_extension": ".py",
   "mimetype": "text/x-python",
   "name": "python",
   "nbconvert_exporter": "python",
   "pygments_lexer": "ipython3",
   "version": "3.5.4"
  }
 },
 "nbformat": 4,
 "nbformat_minor": 1
}
