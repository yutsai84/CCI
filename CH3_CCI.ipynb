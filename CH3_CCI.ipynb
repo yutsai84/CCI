{
 "cells": [
  {
   "cell_type": "code",
   "execution_count": null,
   "metadata": {
    "collapsed": true
   },
   "outputs": [],
   "source": [
    "#3.2\n",
    "# ref: \n",
    "class minStack:\n",
    "    def __init__(self):\n",
    "        self.s1 = [] # store all the data\n",
    "        self.s2 = [] # store the min so far\n",
    "    def push(self, x):\n",
    "        self.s1.append(x)\n",
    "        if len(self.s2) == 0 or x <=self.s2[-1]:\n",
    "            self.s2.append(x)\n",
    "    def pop(self):\n",
    "        if len(self.s1) == 0:\n",
    "            return None\n",
    "        else:\n",
    "            if self.s1[-1] == self.s2[-1]:\n",
    "                self.s2.pop()\n",
    "                return self.s1.pop()\n",
    "    def top(self):\n",
    "        if len(self.s1) == 0:\n",
    "            return None\n",
    "        else:\n",
    "            return self.s1[-1]\n",
    "        \n",
    "    def getMin(self):\n",
    "        if len(self.s2) == 0:\n",
    "            return None\n",
    "        else:\n",
    "            return self.s2[-1]\n",
    "        "
   ]
  },
  {
   "cell_type": "code",
   "execution_count": null,
   "metadata": {
    "collapsed": true
   },
   "outputs": [],
   "source": [
    "#3.3\n",
    "# ref: https://github.com/madhug-nadig/Machine-Learning-Algorithms-from-Scratch/blob/master/K%20Means%20Clustering.py\n",
    "# ref: https://www.youtube.com/watch?time_continue=6&v=Mkuhyz6jD1w&feature=emb_logo\n",
    "class stackPlate:\n",
    "    def __inin__(self, cap):\n",
    "        self.s = []\n",
    "        if cap < 1:\n",
    "            raise NameError('A stack is > 1.')\n",
    "        else:\n",
    "            self.cap = cap\n",
    "    def push(self, item):\n",
    "        if self.s is None:\n",
    "            self.s.append([item])\n",
    "        else:\n",
    "            if len(self.s[-1]) >= self.cap:\n",
    "                self.s.append([item])\n",
    "            else:\n",
    "                self.s[-1].append(item)\n",
    "    def pop(self):\n",
    "        if self.s is None:\n",
    "            raise NameError('Can not pop an empty stack')\n",
    "        else:\n",
    "            pop = self.s[-1][-1]\n",
    "            if len(self.s[-1]) == 1:\n",
    "                del self.s[-1]\n",
    "            else:\n",
    "                del self.s[-1][-1]\n",
    "        return pop\n",
    "    def popAt(self, ind):\n",
    "        if self.s is None:\n",
    "            raise NameError('can not pop an empty stack')\n",
    "        elif ind-1 > len(self.s):\n",
    "            raise NameError('index out of range')\n",
    "        else:\n",
    "            pop = self.s[ind-1][-1]\n",
    "            if len(sel.s[ind-1]) == 1:\n",
    "                del self.s[-1]\n",
    "            elif len(self.s) == ind:\n",
    "                del self.s[-1][-1]\n",
    "            else:\n",
    "                self.s[ind-1][-1] = self.s[ind][0]\n",
    "                for i in range(ind, len(self.s)):\n",
    "                    for j in range(0, len(self.s[i])-1):\n",
    "                        self.s[i][j] = self.s[i][j+1]\n",
    "                    if i < len(self.s)-1:\n",
    "                        self.s[i][-1] = self.s[i+1][0]\n",
    "                del self.s[-1][-1]\n",
    "                if len(self.s[-1]) == 0:\n",
    "                    del self.s[-1]\n",
    "            return pop\n",
    "                "
   ]
  },
  {
   "cell_type": "code",
   "execution_count": null,
   "metadata": {
    "collapsed": true
   },
   "outputs": [],
   "source": [
    "#3.4\n",
    "# ref: leetcode\n",
    "class myQueue:\n",
    "    def __init__(self):\n",
    "        self.s1 = []\n",
    "        self.s2 = []\n",
    "    def push(self, x):\n",
    "        while self.s1:\n",
    "            self.s2.append(self.s1.pop())\n",
    "        self.s1.append(x)\n",
    "        while self.s2:\n",
    "            self.s1.append(self.s2.pop())\n",
    "    def pop(self):\n",
    "        return self.s1[-1]\n",
    "    def isEmpty(self):\n",
    "        return not self.s1"
   ]
  },
  {
   "cell_type": "code",
   "execution_count": 39,
   "metadata": {
    "collapsed": true
   },
   "outputs": [],
   "source": [
    "#3.5\n",
    "# ref: https://colorfulcodesblog.wordpress.com/2018/01/10/sort-stack-cracking-the-code/\n",
    "# check ref: https://www.geeksforgeeks.org/sort-stack-using-temporary-stack/\n",
    "def sortStack(s):\n",
    "    cur = 0\n",
    "    tmp = []\n",
    "    while s != []:\n",
    "        cur = s.pop()\n",
    "        if len(tmp) == 0 or cur > tmp[-1]:\n",
    "            tmp.append(cur)\n",
    "        else:\n",
    "            i = True\n",
    "            while i:\n",
    "                if cur < tmp[-1]:\n",
    "                    s.append(tmp.pop())\n",
    "                    if len(tmp) == 0:\n",
    "                        i = False\n",
    "                else:\n",
    "                    i = False\n",
    "            tmp.append(cur)\n",
    "    return tmp\n",
    "                    \n",
    "    "
   ]
  },
  {
   "cell_type": "code",
   "execution_count": 42,
   "metadata": {
    "collapsed": false
   },
   "outputs": [
    {
     "name": "stdout",
     "output_type": "stream",
     "text": [
      "[1, 2, 3, 5, 6, 21]\n"
     ]
    }
   ],
   "source": [
    "print(sortStack([5,3,2,6,21,1]))"
   ]
  },
  {
   "cell_type": "code",
   "execution_count": null,
   "metadata": {
    "collapsed": true
   },
   "outputs": [],
   "source": []
  },
  {
   "cell_type": "code",
   "execution_count": null,
   "metadata": {
    "collapsed": true
   },
   "outputs": [],
   "source": []
  },
  {
   "cell_type": "code",
   "execution_count": null,
   "metadata": {
    "collapsed": true
   },
   "outputs": [],
   "source": []
  }
 ],
 "metadata": {
  "anaconda-cloud": {},
  "kernelspec": {
   "display_name": "Python [conda env:dlnd-tf-lab]",
   "language": "python",
   "name": "conda-env-dlnd-tf-lab-py"
  },
  "language_info": {
   "codemirror_mode": {
    "name": "ipython",
    "version": 3
   },
   "file_extension": ".py",
   "mimetype": "text/x-python",
   "name": "python",
   "nbconvert_exporter": "python",
   "pygments_lexer": "ipython3",
   "version": "3.5.4"
  }
 },
 "nbformat": 4,
 "nbformat_minor": 1
}
