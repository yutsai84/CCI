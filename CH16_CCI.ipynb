{
 "cells": [
  {
   "cell_type": "code",
   "execution_count": null,
   "metadata": {
    "collapsed": true
   },
   "outputs": [],
   "source": [
    "# 16.6\n",
    "# ref: green book\n",
    "# time O(len(arr1)log(arr1) + len(arr1)log(arr1) to sort and len(arr1) + len(arr2) to find min dif)\n",
    "def fsd(arr1, arr2):\n",
    "    if len(arr1) == 0 or len(arr2) == 0:\n",
    "        return None\n",
    "    arr1 = arr1.sorted()\n",
    "    arr2 = arr2.sorted()\n",
    "    dif = float('inf')\n",
    "    while i < len(arr) and j < len(arr):\n",
    "        if abs(arr1[i]-arr2[j]) < dif:\n",
    "            dif = arr1[i]-arr2[j]\n",
    "        if dif == 0:\n",
    "            break\n",
    "        # move smaller value\n",
    "        if arr1[i] < arr2[j]:\n",
    "            i+=1\n",
    "        else:\n",
    "            j+=1\n",
    "    return dif"
   ]
  },
  {
   "cell_type": "code",
   "execution_count": null,
   "metadata": {
    "collapsed": true
   },
   "outputs": [],
   "source": [
    "# 16.11\n",
    "# ref: green book\n",
    "def db(k, s, l):\n",
    "    if s == l:\n",
    "        return [k*s]\n",
    "    return range(k*s, k*l+1, l-s)"
   ]
  },
  {
   "cell_type": "code",
   "execution_count": 12,
   "metadata": {
    "collapsed": true
   },
   "outputs": [],
   "source": [
    "#16.15\n",
    "# ref: https://github.com/w-hat/ctci-solutions/blob/master/ch-16-moderate/15-mastermind.py\n",
    "c_i = {'B':0, 'Y':1, 'G':2, 'R':3}\n",
    "def mmh(sol, gue):\n",
    "    hit_c, pse_c = 0, 0\n",
    "    c_inc = [0]*4\n",
    "    c_hit = [0]*4\n",
    "    c_gue = [0]*4\n",
    "    for i in range(4):\n",
    "        sol_c = c_i[sol[i]]\n",
    "        gue_c = c_i[gue[i]]\n",
    "        if sol[i] == gue[i]:\n",
    "            hit_c +=1\n",
    "            c_hit[sol_c] = 1\n",
    "        c_inc[sol_c] = 1\n",
    "        c_gue[gue_c] = 1\n",
    "        \n",
    "    for i in range(4):\n",
    "        pse_c += c_gue[i] & c_inc[i] & ~c_hit[i]\n",
    "    return (hit_c, pse_c)"
   ]
  },
  {
   "cell_type": "code",
   "execution_count": 13,
   "metadata": {
    "collapsed": false
   },
   "outputs": [
    {
     "name": "stdout",
     "output_type": "stream",
     "text": [
      "[1, 1, 0, 0]\n",
      "[1, 1, 0, 0]\n",
      "[0, 0, 0, 0]\n",
      "0\n"
     ]
    },
    {
     "data": {
      "text/plain": [
       "(0, 2)"
      ]
     },
     "execution_count": 13,
     "metadata": {},
     "output_type": "execute_result"
    }
   ],
   "source": [
    "mmh(\"YYBB\", \"BBYY\")"
   ]
  },
  {
   "cell_type": "code",
   "execution_count": null,
   "metadata": {
    "collapsed": true
   },
   "outputs": [],
   "source": [
    "# 16.16\n",
    "# ref: ref: https://www.youtube.com/watch?v=N3hrzgluUvE  \n",
    "# approach1\n",
    "def findUnsortedSubarray(self, nums: List[int]) -> int:\n",
    "    snums = sorted(nums)\n",
    "    s, e = -1, -1\n",
    "    for i, num in enumerate(nums):\n",
    "        if num != snums[i] and s == -1:\n",
    "            s = e = i\n",
    "        elif num != snums[i]:\n",
    "            e = i\n",
    "    return e-s+1 if -1 not in [s, e] else 0\n",
    "#approach2:\n",
    "def subSort(nums):\n",
    "    s = e = -1\n",
    "    n, mx, mn = len(nums), float('-inf'), float('inf')\n",
    "    for i in range(n):\n",
    "        mx = max(mx, nums[i])\n",
    "        if nums[i] < mx:\n",
    "            e = i\n",
    "    for i in range(n-1, -1, -1):\n",
    "        mn = min(mn, nums[i])\n",
    "        if nums[i] > mn:\n",
    "            s = i\n",
    "    return e-s-1 if s>=0 else 0\n",
    "# approach 3:\n",
    "# ref: https://www.youtube.com/watch?v=8wHH9txAK34\n"
   ]
  },
  {
   "cell_type": "code",
   "execution_count": null,
   "metadata": {
    "collapsed": true
   },
   "outputs": [],
   "source": [
    "#16.17\n",
    "#ref: Kadane algorithm: O(N)\n",
    "def mss(nums):\n",
    "    for i in range(1, len(nums)):\n",
    "        if nums[i-1]>0:\n",
    "            nums[i] += nums[i-1]\n",
    "    return max(nums)\n",
    "#ref: divide and conquer: O(NlogN) https://www.youtube.com/watch?v=9wUr2o39CDU\n",
    "#ref: https://leetcode.com/problems/maximum-subarray/discuss/20495/Divide-conquer-easy-to-understand\n",
    "class Solution:\n",
    "    # @param {integer[]} nums\n",
    "    # @return {integer}\n",
    "    def maxSubArrayHelper(self,nums, l, r):\n",
    "        if l > r:\n",
    "            return float('-inf')\n",
    "        m = (l+r) // 2\n",
    "        \n",
    "        leftMax = sumNum = 0\n",
    "        for i in range(m -1, l - 1, -1):\n",
    "            sumNum += nums[i]\n",
    "            leftMax = max(leftMax, sumNum)\n",
    "        \n",
    "        rightMax = sumNum = 0\n",
    "        for i in range(m + 1, r + 1):\n",
    "            sumNum += nums[i]\n",
    "            rightMax = max(rightMax, sumNum)\n",
    "            \n",
    "        leftAns = self.maxSubArrayHelper(nums, l, m - 1)\n",
    "        rightAns = self.maxSubArrayHelper(nums, m + 1, r)\n",
    "            \n",
    "        return max(leftMax + nums[m] + rightMax, max(leftAns, rightAns))\n",
    "        \n",
    "    def maxSubArray(self, nums):\n",
    "        return self.maxSubArrayHelper(nums, 0, len(nums) - 1)"
   ]
  },
  {
   "cell_type": "code",
   "execution_count": null,
   "metadata": {
    "collapsed": true
   },
   "outputs": [],
   "source": [
    "#16.18\n",
    "#ref: https://leetcode.com/problems/word-pattern/\n",
    "def mat(pat, strs):\n",
    "    p = pat\n",
    "    s = strs.split()\n",
    "    return len(set(zip(p, s))) == len(set(p)) == len(set(t)) and len(p) == len(s)"
   ]
  },
  {
   "cell_type": "code",
   "execution_count": null,
   "metadata": {
    "collapsed": true
   },
   "outputs": [],
   "source": [
    "#16.19\n",
    "# ref: https://leetcode.com/problems/number-of-islands/\n",
    "# time/space: O(rowxcol)\n",
    "def dfs(m, row, col):\n",
    "    if row < 0 or col <0 or row >=len(m) or col >= len(m[0]) or m[row][col] != 0:\n",
    "        return 0\n",
    "    s = 1\n",
    "    m[row][col] == -1\n",
    "    s+= dfs(m, row+1, col)\n",
    "    s+= dfs(m, row-1, col)\n",
    "    s+= dfs(m, row, col+1)\n",
    "    s+= dfs(m, row, col-1)\n",
    "    return s\n",
    "\n",
    "def ps(m):\n",
    "    if m is None:\n",
    "        return 0\n",
    "    ps = []\n",
    "    for row in range(len(m)):\n",
    "        for col in range(len(m[0])):\n",
    "            if m[row][col] == '0':\n",
    "                s = dfs(m, row, col)\n",
    "                ps.append(s)\n",
    "    return ps\n",
    "                \n"
   ]
  },
  {
   "cell_type": "code",
   "execution_count": null,
   "metadata": {
    "collapsed": true
   },
   "outputs": [],
   "source": [
    "#695:\n",
    "# ref: https://leetcode.com/problems/max-area-of-island/\n",
    "# time/space: O(rowxcol)\n",
    "def mai(m):\n",
    "    nr = len(grid)\n",
    "    nc = len(grid[0])\n",
    "    def dfs(r,c):\n",
    "        if (0<=r and r<nr) and (0<=c and c<=nc) and grid[r][c]:\n",
    "            grid[r][c] =0\n",
    "            return dfs(r+1,c)+dfs(r-1,c)+dfs(r,c+1)+dfs(r,c-1)+1\n",
    "        return 0\n",
    "    for r in range(nr):\n",
    "        for c in range(nc):\n",
    "            if grid[r][c]:\n",
    "                maxarea = max(maxarea, dfs(r,c))\n",
    "    return maxarea"
   ]
  },
  {
   "cell_type": "code",
   "execution_count": null,
   "metadata": {
    "collapsed": true
   },
   "outputs": [],
   "source": [
    "#16.20\n",
    "# ref: https://leetcode.com/problems/letter-combinations-of-a-phone-number/\n",
    "class Solution(object):\n",
    "    def letterCombinations(self, digits):\n",
    "        '''\n",
    "        :type digits: str\n",
    "        :rtype: List[str]\n",
    "        '''\n",
    "        phone = {'2': ['a', 'b', 'c'],\n",
    "                 '3': ['d', 'e', 'f'],\n",
    "                 '4': ['g', 'h', 'i'],\n",
    "                 '5': ['j', 'k', 'l'],\n",
    "                 '6': ['m', 'n', 'o'],\n",
    "                 '7': ['p', 'q', 'r', 's'],\n",
    "                 '8': ['t', 'u', 'v'],\n",
    "                 '9': ['w', 'x', 'y', 'z']}    \n",
    "        result = []\n",
    "        \n",
    "        def helpCombine(current, leftoverDigits):\n",
    "            if not leftoverDigits:\n",
    "                result.append(current)\n",
    "                return \n",
    "            else:\n",
    "                for char in phone[leftoverDigits[0]]:\n",
    "                    helpCombine(current + char, leftoverDigits[1:])\n",
    "        \n",
    "        if digits is None:\n",
    "            return []\n",
    "        else: \n",
    "            helpCombine(\"\", digits)\n",
    "            return result"
   ]
  },
  {
   "cell_type": "code",
   "execution_count": null,
   "metadata": {
    "collapsed": true
   },
   "outputs": [],
   "source": [
    "#16.21\n",
    "# ref: https://www.geeksforgeeks.org/find-a-pair-swapping-which-makes-sum-of-two-arrays-same/\n"
   ]
  }
 ],
 "metadata": {
  "kernelspec": {
   "display_name": "Python [default]",
   "language": "python",
   "name": "python2"
  },
  "language_info": {
   "codemirror_mode": {
    "name": "ipython",
    "version": 2
   },
   "file_extension": ".py",
   "mimetype": "text/x-python",
   "name": "python",
   "nbconvert_exporter": "python",
   "pygments_lexer": "ipython2",
   "version": "2.7.12"
  }
 },
 "nbformat": 4,
 "nbformat_minor": 1
}
