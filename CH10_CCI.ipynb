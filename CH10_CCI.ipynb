{
 "cells": [
  {
   "cell_type": "code",
   "execution_count": 9,
   "metadata": {
    "collapsed": true
   },
   "outputs": [],
   "source": [
    "# merge sort\n",
    "# ref: https://www.geeksforgeeks.org/python-program-for-merge-sort/\n",
    "def merge(arr, l, m, r):\n",
    "    n1 = m-l+1 #arr[l..m]\n",
    "    n2 = r-m   #arr[m+1..r]\n",
    "    L = [0]*(n1)\n",
    "    R = [0]*(n2)\n",
    "    \n",
    "    # copy from arr to L and R arrays\n",
    "    for i in range(n1):\n",
    "        L[i] = arr[l+i]\n",
    "    for j in range(n2):\n",
    "        R[j] = arr[m+1+j]\n",
    "    \n",
    "    # merge\n",
    "    i = j = 0\n",
    "    k = l\n",
    "    while i < n1 and j < n2:\n",
    "        if L[i] < R[j]:\n",
    "            arr[k] = L[i]\n",
    "            i+=1\n",
    "        else:\n",
    "            arr[k] = R[j]\n",
    "            j+=1\n",
    "        k+=1\n",
    "    while i < n1:\n",
    "        arr[k] = L[i]\n",
    "        i+=1\n",
    "        k+=1\n",
    "    while j < n2:\n",
    "        arr[k] = R[j]\n",
    "        j+=1\n",
    "        k+=1\n",
    "\n",
    "\n",
    "\n",
    "def mergeSort(arr, l, r):\n",
    "    if l < r:\n",
    "        m = (l + (r-1))//2\n",
    "        mergeSort(arr, l, m)\n",
    "        mergeSort(arr, m+1, r)\n",
    "        merge(arr, l, m, r)"
   ]
  },
  {
   "cell_type": "code",
   "execution_count": 10,
   "metadata": {
    "collapsed": false
   },
   "outputs": [
    {
     "name": "stdout",
     "output_type": "stream",
     "text": [
      "Given array is\n",
      "12\n",
      "11\n",
      "13\n",
      "5\n",
      "6\n",
      "7\n",
      "\n",
      "\n",
      "Sorted array is\n",
      "5\n",
      "6\n",
      "7\n",
      "11\n",
      "12\n",
      "13\n"
     ]
    }
   ],
   "source": [
    "arr = [12, 11, 13, 5, 6, 7] \n",
    "n = len(arr) \n",
    "print (\"Given array is\") \n",
    "for i in range(n): \n",
    "    print (\"%d\" %arr[i]) \n",
    "\n",
    "mergeSort(arr,0,n-1) \n",
    "print (\"\\n\\nSorted array is\") \n",
    "for i in range(n): \n",
    "    print (\"%d\" %arr[i])"
   ]
  },
  {
   "cell_type": "code",
   "execution_count": 11,
   "metadata": {
    "collapsed": true
   },
   "outputs": [],
   "source": [
    "# quick sort\n",
    "# ref: https://www.geeksforgeeks.org/python-program-for-quicksort/\n",
    "def partition(arr, low, high):\n",
    "    i = low-1\n",
    "    pivot = arr[high]\n",
    "    for j in range(low, high):\n",
    "        if arr[j] <= pivot:\n",
    "            i+=1\n",
    "            arr[i], arr[j] = arr[j], arr[i]\n",
    "    arr[i+1], arr[high] = arr[high], arr[i+1]\n",
    "    return i+1\n",
    "\n",
    "def quickSort(arr, low, high):\n",
    "    if low < high:\n",
    "        pi = partition(arr, low, high)\n",
    "        quickSort(arr, low, pi-1)\n",
    "        quickSort(arr, pi+1, high)\n",
    "\n",
    "            \n",
    "        "
   ]
  },
  {
   "cell_type": "code",
   "execution_count": 12,
   "metadata": {
    "collapsed": false
   },
   "outputs": [
    {
     "name": "stdout",
     "output_type": "stream",
     "text": [
      "Sorted array is:\n",
      "1\n",
      "5\n",
      "7\n",
      "8\n",
      "9\n",
      "10\n"
     ]
    }
   ],
   "source": [
    "arr = [10, 7, 8, 9, 1, 5] \n",
    "n = len(arr) \n",
    "quickSort(arr,0,n-1) \n",
    "print (\"Sorted array is:\") \n",
    "for i in range(n): \n",
    "    print (\"%d\" %arr[i]), "
   ]
  },
  {
   "cell_type": "code",
   "execution_count": 15,
   "metadata": {
    "collapsed": true
   },
   "outputs": [],
   "source": [
    "# binary search (recursive)\n",
    "# ref: https://www.geeksforgeeks.org/binary-search/\n",
    "def bS(arr, l, r, x):\n",
    "    if r >= l:\n",
    "        mid = (r+l)//2\n",
    "        if arr[mid] == x:\n",
    "            return mid\n",
    "        elif arr[mid] > x:\n",
    "            return bS(arr, l, mid-1, x)\n",
    "        else:\n",
    "            return bS(arr, mid+1, r, x)\n",
    "    else:\n",
    "        return -1"
   ]
  },
  {
   "cell_type": "code",
   "execution_count": 17,
   "metadata": {
    "collapsed": false
   },
   "outputs": [
    {
     "name": "stdout",
     "output_type": "stream",
     "text": [
      "Element is present at index  3\n"
     ]
    }
   ],
   "source": [
    "arr = [ 2, 3, 4, 10, 40 ] \n",
    "x = 10\n",
    "  \n",
    "# Function call \n",
    "result = bS(arr, 0, len(arr)-1, x) \n",
    "  \n",
    "if result != -1: \n",
    "    print(\"Element is present at index % d\" % result) \n",
    "else: \n",
    "    print(\"Element is not present in array\")"
   ]
  },
  {
   "cell_type": "code",
   "execution_count": 18,
   "metadata": {
    "collapsed": true
   },
   "outputs": [],
   "source": [
    "# iterative approach\n",
    "def bS(arr, l, r, x):\n",
    "    while l <= r:\n",
    "        mid = (l+r)//2\n",
    "        if arr[mid] == x:\n",
    "            return mid\n",
    "        elif arr[mid] < x:\n",
    "            l = mid + 1\n",
    "        else:\n",
    "            r = mid - 1\n",
    "    return -1"
   ]
  },
  {
   "cell_type": "code",
   "execution_count": 19,
   "metadata": {
    "collapsed": false
   },
   "outputs": [
    {
     "name": "stdout",
     "output_type": "stream",
     "text": [
      "Element is present at index  3\n"
     ]
    }
   ],
   "source": [
    "arr = [ 2, 3, 4, 10, 40 ] \n",
    "x = 10\n",
    "  \n",
    "# Function call \n",
    "result = bS(arr, 0, len(arr)-1, x) \n",
    "  \n",
    "if result != -1: \n",
    "    print(\"Element is present at index % d\" % result) \n",
    "else: \n",
    "    print(\"Element is not present in array\")"
   ]
  },
  {
   "cell_type": "code",
   "execution_count": 26,
   "metadata": {
    "collapsed": true
   },
   "outputs": [],
   "source": [
    "# 10.1\n",
    "# ref: https://github.com/careercup/CtCI-6th-Edition-Python/blob/master/Chapter10/101SortedMerge.py\n",
    "def merge(a, b, na, nb):\n",
    "    ia = na-nb-1 #last index of numbers in a\n",
    "    ib = nb-1 #last index of b\n",
    "    im = na-1 # last index of merged array\n",
    "    while ib>=0:\n",
    "        if ia>=0 and a[ia]>b[ib]:\n",
    "            a[im] = a[ia]\n",
    "            ia -=1\n",
    "        else:\n",
    "            a[im] = b[ib]\n",
    "            ib -=1\n",
    "        im -=1\n",
    "    return a\n"
   ]
  },
  {
   "cell_type": "code",
   "execution_count": 27,
   "metadata": {
    "collapsed": false
   },
   "outputs": [
    {
     "data": {
      "text/plain": [
       "[1, 2, 10, 11, 15, 16]"
      ]
     },
     "execution_count": 27,
     "metadata": {},
     "output_type": "execute_result"
    }
   ],
   "source": [
    "merge([1,10,15, None, None, None], [2,11,16], 6, 3)"
   ]
  },
  {
   "cell_type": "code",
   "execution_count": 31,
   "metadata": {
    "collapsed": false
   },
   "outputs": [],
   "source": [
    "#10.2\n",
    "#ref: https://github.com/w-hat/ctci-solutions/blob/master/ch-10-sorting-and-searching/02-group-anagrams.py\n",
    "def gAna(ss):\n",
    "    pairs = [(s, sorted(s)) for s in ss]\n",
    "    pairs.sort(key = lambda p: p[1])\n",
    "    return [p[0] for p in pairs]"
   ]
  },
  {
   "cell_type": "code",
   "execution_count": 32,
   "metadata": {
    "collapsed": false
   },
   "outputs": [
    {
     "data": {
      "text/plain": [
       "['bat', 'tab', 'cat', 'arts', 'star', 'rat']"
      ]
     },
     "execution_count": 32,
     "metadata": {},
     "output_type": "execute_result"
    }
   ],
   "source": [
    "gAna(['cat','bat','tab', 'arts','rat','star'])"
   ]
  },
  {
   "cell_type": "code",
   "execution_count": null,
   "metadata": {
    "collapsed": true
   },
   "outputs": [],
   "source": [
    "# 10.3\n",
    "# ref: https://www.youtube.com/watch?v=lWEIIFFflQY\n",
    "# ref: https://leetcode.com/problems/search-in-rotated-sorted-array/submissions/\n",
    "def search(nums, target):\n",
    "    if not nums:\n",
    "        return -1\n",
    "    s, e = 0, len(nums-1) # start and end index\n",
    "    while s<=e:\n",
    "        mid = (s+e)//2\n",
    "        if target == nums[mid]:\n",
    "            return mid\n",
    "        if nums[s] <= nums[mid]:\n",
    "            if nums[s] <= target <= nums[mid]:\n",
    "                e = mid-1\n",
    "            else:\n",
    "                s = mid+1\n",
    "        else:\n",
    "            if nums[mid] <= target <= nums[e]:\n",
    "                s = mid+1\n",
    "            else:\n",
    "                e = mid-1\n",
    "    return -1"
   ]
  },
  {
   "cell_type": "code",
   "execution_count": 117,
   "metadata": {
    "collapsed": false
   },
   "outputs": [],
   "source": [
    "#10.4\n",
    "# ref: https://github.com/w-hat/ctci-solutions/blob/master/ch-10-sorting-and-searching/04-sorted-search-no-size.py\n",
    "def search(arr, item, s =0, e = None):\n",
    "    if e is None:\n",
    "        e = 1 # random guess a right index\n",
    "        right = arr[e]\n",
    "        while right < item and right != -1:\n",
    "            #check that 2*h doesn't exceeds array\n",
    "            #length to prevent ArrayOutOfBoundExceptio\n",
    "            if 2*e < len(arr)-1:\n",
    "                e*2 # exponentially back off\n",
    "            else:\n",
    "                e = len(arr)-1\n",
    "            right = arr[e]\n",
    "        if right == item:\n",
    "            return e\n",
    "    if s == e:\n",
    "        return None\n",
    "    mid = (s+e)//2\n",
    "    middle = arr[mid]\n",
    "    if middle == item:\n",
    "        return mid\n",
    "    if middle == -1 or middle > item:\n",
    "        return search(arr, item, s, mid-1)\n",
    "    else:\n",
    "        return search(arr, item, mid+1, e)\n",
    "    "
   ]
  },
  {
   "cell_type": "code",
   "execution_count": 126,
   "metadata": {
    "collapsed": false
   },
   "outputs": [
    {
     "ename": "KeyboardInterrupt",
     "evalue": "",
     "output_type": "error",
     "traceback": [
      "\u001b[0;31m---------------------------------------------------------------------------\u001b[0m",
      "\u001b[0;31mKeyboardInterrupt\u001b[0m                         Traceback (most recent call last)",
      "\u001b[0;32m<ipython-input-126-f835bdb6dd93>\u001b[0m in \u001b[0;36m<module>\u001b[0;34m()\u001b[0m\n\u001b[0;32m----> 1\u001b[0;31m \u001b[0msearch\u001b[0m\u001b[0;34m(\u001b[0m\u001b[0;34m[\u001b[0m\u001b[0;34m-\u001b[0m\u001b[0;36m1\u001b[0m\u001b[0;34m,\u001b[0m\u001b[0;36m2\u001b[0m\u001b[0;34m,\u001b[0m\u001b[0;36m3\u001b[0m\u001b[0;34m,\u001b[0m\u001b[0;36m22\u001b[0m\u001b[0;34m,\u001b[0m\u001b[0;36m23\u001b[0m\u001b[0;34m,\u001b[0m\u001b[0;36m10\u001b[0m\u001b[0;34m]\u001b[0m\u001b[0;34m,\u001b[0m \u001b[0;36m3\u001b[0m\u001b[0;34m,\u001b[0m \u001b[0;36m0\u001b[0m\u001b[0;34m,\u001b[0m \u001b[0;32mNone\u001b[0m\u001b[0;34m)\u001b[0m\u001b[0;34m\u001b[0m\u001b[0m\n\u001b[0m",
      "\u001b[0;32m<ipython-input-117-2e5a84be3cef>\u001b[0m in \u001b[0;36msearch\u001b[0;34m(arr, item, s, e)\u001b[0m\n\u001b[1;32m     12\u001b[0m             \u001b[0;32melse\u001b[0m\u001b[0;34m:\u001b[0m\u001b[0;34m\u001b[0m\u001b[0m\n\u001b[1;32m     13\u001b[0m                 \u001b[0me\u001b[0m \u001b[0;34m=\u001b[0m \u001b[0mlen\u001b[0m\u001b[0;34m(\u001b[0m\u001b[0marr\u001b[0m\u001b[0;34m)\u001b[0m\u001b[0;34m-\u001b[0m\u001b[0;36m1\u001b[0m\u001b[0;34m\u001b[0m\u001b[0m\n\u001b[0;32m---> 14\u001b[0;31m             \u001b[0mright\u001b[0m \u001b[0;34m=\u001b[0m \u001b[0marr\u001b[0m\u001b[0;34m[\u001b[0m\u001b[0me\u001b[0m\u001b[0;34m]\u001b[0m\u001b[0;34m\u001b[0m\u001b[0m\n\u001b[0m\u001b[1;32m     15\u001b[0m         \u001b[0;32mif\u001b[0m \u001b[0mright\u001b[0m \u001b[0;34m==\u001b[0m \u001b[0mitem\u001b[0m\u001b[0;34m:\u001b[0m\u001b[0;34m\u001b[0m\u001b[0m\n\u001b[1;32m     16\u001b[0m             \u001b[0;32mreturn\u001b[0m \u001b[0me\u001b[0m\u001b[0;34m\u001b[0m\u001b[0m\n",
      "\u001b[0;31mKeyboardInterrupt\u001b[0m: "
     ]
    }
   ],
   "source": [
    "search([-1,2,3,22,23,10], 3, 0, None)"
   ]
  },
  {
   "cell_type": "code",
   "execution_count": 98,
   "metadata": {
    "collapsed": true
   },
   "outputs": [],
   "source": [
    "# ref: https://www.geeksforgeeks.org/find-position-element-sorted-array-infinite-numbers/\n",
    "def binary_search(arr,l,r,x): \n",
    "  \n",
    "    if r >= l: \n",
    "        #mid = l+(r-l)/2\n",
    "        mid = (l+r)//2\n",
    "  \n",
    "        if arr[mid] == x: \n",
    "            return mid \n",
    "  \n",
    "        if arr[mid] > x: \n",
    "            return binary_search(arr,l,mid-1,x) \n",
    "  \n",
    "        return binary_search(arr,mid+1,r,x) \n",
    "  \n",
    "    return -1\n",
    "\n",
    "def findPos(a, key): \n",
    "  \n",
    "    l, h, val = 0, 1, arr[0] \n",
    "  \n",
    "    # Find h to do binary search \n",
    "    while val < key: \n",
    "        l = h            #store previous high \n",
    "        if 2*h < len(a)-1:\n",
    "            h = 2*h          #double high index \n",
    "        else:\n",
    "            h = len(a)-1\n",
    "        val = arr[h]       #update new val \n",
    "  \n",
    "    # at this point we have updated low and high indices, \n",
    "    # thus use binary search between them \n",
    "    return binary_search(a, l, h, key) "
   ]
  },
  {
   "cell_type": "code",
   "execution_count": 111,
   "metadata": {
    "collapsed": false
   },
   "outputs": [],
   "source": [
    "arr = [-1,2,3,22,10,25]\n",
    "ans = findPos(arr, 25) "
   ]
  },
  {
   "cell_type": "code",
   "execution_count": 112,
   "metadata": {
    "collapsed": false
   },
   "outputs": [
    {
     "data": {
      "text/plain": [
       "5"
      ]
     },
     "execution_count": 112,
     "metadata": {},
     "output_type": "execute_result"
    }
   ],
   "source": [
    "ans"
   ]
  },
  {
   "cell_type": "code",
   "execution_count": 131,
   "metadata": {
    "collapsed": false
   },
   "outputs": [],
   "source": [
    "# 10.5\n",
    "# ref: https://www.geeksforgeeks.org/sparse-search/\n",
    "def sparseS(arr, key, s, e):\n",
    "    l = r = 0\n",
    "    while s <= e:\n",
    "        mid = (s+e)//2\n",
    "        if arr[mid] == '':\n",
    "            l = mid-1\n",
    "            r = mid+1\n",
    "            if l <s and r>e:\n",
    "                return -1\n",
    "            elif r<=e and arr[r] !='':\n",
    "                mid = r\n",
    "            elif l>=s and arr[l] !='':\n",
    "                mid = l\n",
    "        if arr[mid] == key:\n",
    "            return mid\n",
    "        elif arr[mid] > key:\n",
    "            e = mid-1\n",
    "        elif arr[mid] < key:\n",
    "            l = mid+1\n",
    "        l -=1\n",
    "        r +=1\n",
    "    return -1\n",
    "        "
   ]
  },
  {
   "cell_type": "code",
   "execution_count": 132,
   "metadata": {
    "collapsed": false,
    "scrolled": true
   },
   "outputs": [
    {
     "data": {
      "text/plain": [
       "2"
      ]
     },
     "execution_count": 132,
     "metadata": {},
     "output_type": "execute_result"
    }
   ],
   "source": [
    "arr= ['for', '','geeks','','','test']\n",
    "sparseS(arr, 'geeks', 0, len(arr)-1)"
   ]
  },
  {
   "cell_type": "code",
   "execution_count": null,
   "metadata": {
    "collapsed": true
   },
   "outputs": [],
   "source": []
  }
 ],
 "metadata": {
  "kernelspec": {
   "display_name": "Python [conda env:dlnd-tf-lab]",
   "language": "python",
   "name": "conda-env-dlnd-tf-lab-py"
  },
  "language_info": {
   "codemirror_mode": {
    "name": "ipython",
    "version": 3
   },
   "file_extension": ".py",
   "mimetype": "text/x-python",
   "name": "python",
   "nbconvert_exporter": "python",
   "pygments_lexer": "ipython3",
   "version": "3.5.4"
  }
 },
 "nbformat": 4,
 "nbformat_minor": 1
}
